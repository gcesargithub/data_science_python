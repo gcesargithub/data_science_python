{
 "cells": [
  {
   "cell_type": "markdown",
   "source": [
    "Cesar Garcia Data Science"
   ],
   "metadata": {
    "collapsed": false
   }
  },
  {
   "cell_type": "code",
   "execution_count": 1,
   "outputs": [],
   "source": [
    "# DataFrames appending, dropping, filling\n",
    "\n",
    "# Importing libraries\n",
    "import numpy as np\n",
    "import pandas as pd\n"
   ],
   "metadata": {
    "collapsed": false,
    "ExecuteTime": {
     "end_time": "2023-11-01T19:26:55.590597Z",
     "start_time": "2023-11-01T19:26:55.585944Z"
    }
   }
  },
  {
   "cell_type": "code",
   "execution_count": 4,
   "outputs": [],
   "source": [
    "# Create df\n",
    "\n",
    "np.random.seed(0)\n",
    "df1 = pd.DataFrame(data=np.random.normal(size=(2, 3)))\n",
    "df2 = pd.DataFrame(data=np.random.normal(size=(2, 3)))\n"
   ],
   "metadata": {
    "collapsed": false,
    "ExecuteTime": {
     "end_time": "2023-10-09T01:52:57.103883Z",
     "start_time": "2023-10-09T01:52:56.983713Z"
    }
   }
  },
  {
   "cell_type": "code",
   "execution_count": 5,
   "outputs": [
    {
     "data": {
      "text/plain": "          0         1         2\n0  1.764052  0.400157  0.978738\n1  2.240893  1.867558 -0.977278",
      "text/html": "<div>\n<style scoped>\n    .dataframe tbody tr th:only-of-type {\n        vertical-align: middle;\n    }\n\n    .dataframe tbody tr th {\n        vertical-align: top;\n    }\n\n    .dataframe thead th {\n        text-align: right;\n    }\n</style>\n<table border=\"1\" class=\"dataframe\">\n  <thead>\n    <tr style=\"text-align: right;\">\n      <th></th>\n      <th>0</th>\n      <th>1</th>\n      <th>2</th>\n    </tr>\n  </thead>\n  <tbody>\n    <tr>\n      <th>0</th>\n      <td>1.764052</td>\n      <td>0.400157</td>\n      <td>0.978738</td>\n    </tr>\n    <tr>\n      <th>1</th>\n      <td>2.240893</td>\n      <td>1.867558</td>\n      <td>-0.977278</td>\n    </tr>\n  </tbody>\n</table>\n</div>"
     },
     "execution_count": 5,
     "metadata": {},
     "output_type": "execute_result"
    }
   ],
   "source": [
    "df1"
   ],
   "metadata": {
    "collapsed": false,
    "ExecuteTime": {
     "end_time": "2023-10-09T01:52:57.118406Z",
     "start_time": "2023-10-09T01:52:56.990849Z"
    }
   }
  },
  {
   "cell_type": "code",
   "execution_count": 6,
   "outputs": [
    {
     "data": {
      "text/plain": "          0         1         2\n0  0.950088 -0.151357 -0.103219\n1  0.410599  0.144044  1.454274",
      "text/html": "<div>\n<style scoped>\n    .dataframe tbody tr th:only-of-type {\n        vertical-align: middle;\n    }\n\n    .dataframe tbody tr th {\n        vertical-align: top;\n    }\n\n    .dataframe thead th {\n        text-align: right;\n    }\n</style>\n<table border=\"1\" class=\"dataframe\">\n  <thead>\n    <tr style=\"text-align: right;\">\n      <th></th>\n      <th>0</th>\n      <th>1</th>\n      <th>2</th>\n    </tr>\n  </thead>\n  <tbody>\n    <tr>\n      <th>0</th>\n      <td>0.950088</td>\n      <td>-0.151357</td>\n      <td>-0.103219</td>\n    </tr>\n    <tr>\n      <th>1</th>\n      <td>0.410599</td>\n      <td>0.144044</td>\n      <td>1.454274</td>\n    </tr>\n  </tbody>\n</table>\n</div>"
     },
     "execution_count": 6,
     "metadata": {},
     "output_type": "execute_result"
    }
   ],
   "source": [
    "df2"
   ],
   "metadata": {
    "collapsed": false,
    "ExecuteTime": {
     "end_time": "2023-10-09T01:52:57.119987Z",
     "start_time": "2023-10-09T01:52:57.016197Z"
    }
   }
  },
  {
   "cell_type": "code",
   "execution_count": 7,
   "outputs": [
    {
     "name": "stderr",
     "output_type": "stream",
     "text": [
      "/var/folders/2c/n83jps3s6l36_lg9dl_v_5vm0000gn/T/ipykernel_3605/3886664652.py:3: FutureWarning: The frame.append method is deprecated and will be removed from pandas in a future version. Use pandas.concat instead.\n",
      "  df1.append(df2)\n"
     ]
    },
    {
     "data": {
      "text/plain": "          0         1         2\n0  1.764052  0.400157  0.978738\n1  2.240893  1.867558 -0.977278\n0  0.950088 -0.151357 -0.103219\n1  0.410599  0.144044  1.454274",
      "text/html": "<div>\n<style scoped>\n    .dataframe tbody tr th:only-of-type {\n        vertical-align: middle;\n    }\n\n    .dataframe tbody tr th {\n        vertical-align: top;\n    }\n\n    .dataframe thead th {\n        text-align: right;\n    }\n</style>\n<table border=\"1\" class=\"dataframe\">\n  <thead>\n    <tr style=\"text-align: right;\">\n      <th></th>\n      <th>0</th>\n      <th>1</th>\n      <th>2</th>\n    </tr>\n  </thead>\n  <tbody>\n    <tr>\n      <th>0</th>\n      <td>1.764052</td>\n      <td>0.400157</td>\n      <td>0.978738</td>\n    </tr>\n    <tr>\n      <th>1</th>\n      <td>2.240893</td>\n      <td>1.867558</td>\n      <td>-0.977278</td>\n    </tr>\n    <tr>\n      <th>0</th>\n      <td>0.950088</td>\n      <td>-0.151357</td>\n      <td>-0.103219</td>\n    </tr>\n    <tr>\n      <th>1</th>\n      <td>0.410599</td>\n      <td>0.144044</td>\n      <td>1.454274</td>\n    </tr>\n  </tbody>\n</table>\n</div>"
     },
     "execution_count": 7,
     "metadata": {},
     "output_type": "execute_result"
    }
   ],
   "source": [
    "# Append df1 and df2\n",
    "\n",
    "df1.append(df2)\n"
   ],
   "metadata": {
    "collapsed": false,
    "ExecuteTime": {
     "end_time": "2023-10-09T01:52:57.121148Z",
     "start_time": "2023-10-09T01:52:57.033586Z"
    }
   }
  },
  {
   "cell_type": "code",
   "execution_count": 8,
   "outputs": [
    {
     "data": {
      "text/plain": "          0         1         2\n0  1.764052  0.400157  0.978738\n1  2.240893  1.867558 -0.977278\n0  0.950088 -0.151357 -0.103219\n1  0.410599  0.144044  1.454274",
      "text/html": "<div>\n<style scoped>\n    .dataframe tbody tr th:only-of-type {\n        vertical-align: middle;\n    }\n\n    .dataframe tbody tr th {\n        vertical-align: top;\n    }\n\n    .dataframe thead th {\n        text-align: right;\n    }\n</style>\n<table border=\"1\" class=\"dataframe\">\n  <thead>\n    <tr style=\"text-align: right;\">\n      <th></th>\n      <th>0</th>\n      <th>1</th>\n      <th>2</th>\n    </tr>\n  </thead>\n  <tbody>\n    <tr>\n      <th>0</th>\n      <td>1.764052</td>\n      <td>0.400157</td>\n      <td>0.978738</td>\n    </tr>\n    <tr>\n      <th>1</th>\n      <td>2.240893</td>\n      <td>1.867558</td>\n      <td>-0.977278</td>\n    </tr>\n    <tr>\n      <th>0</th>\n      <td>0.950088</td>\n      <td>-0.151357</td>\n      <td>-0.103219</td>\n    </tr>\n    <tr>\n      <th>1</th>\n      <td>0.410599</td>\n      <td>0.144044</td>\n      <td>1.454274</td>\n    </tr>\n  </tbody>\n</table>\n</div>"
     },
     "execution_count": 8,
     "metadata": {},
     "output_type": "execute_result"
    }
   ],
   "source": [
    "# Append df1 and df2 newer\n",
    "\n",
    "pd.concat([df1, df2])\n"
   ],
   "metadata": {
    "collapsed": false,
    "ExecuteTime": {
     "end_time": "2023-10-09T01:52:57.121970Z",
     "start_time": "2023-10-09T01:52:57.042159Z"
    }
   }
  },
  {
   "cell_type": "code",
   "execution_count": 9,
   "outputs": [
    {
     "data": {
      "text/plain": "          0         1         2\n0  1.764052  0.400157  0.978738\n1  2.240893  1.867558 -0.977278\n2  0.950088 -0.151357 -0.103219\n3  0.410599  0.144044  1.454274",
      "text/html": "<div>\n<style scoped>\n    .dataframe tbody tr th:only-of-type {\n        vertical-align: middle;\n    }\n\n    .dataframe tbody tr th {\n        vertical-align: top;\n    }\n\n    .dataframe thead th {\n        text-align: right;\n    }\n</style>\n<table border=\"1\" class=\"dataframe\">\n  <thead>\n    <tr style=\"text-align: right;\">\n      <th></th>\n      <th>0</th>\n      <th>1</th>\n      <th>2</th>\n    </tr>\n  </thead>\n  <tbody>\n    <tr>\n      <th>0</th>\n      <td>1.764052</td>\n      <td>0.400157</td>\n      <td>0.978738</td>\n    </tr>\n    <tr>\n      <th>1</th>\n      <td>2.240893</td>\n      <td>1.867558</td>\n      <td>-0.977278</td>\n    </tr>\n    <tr>\n      <th>2</th>\n      <td>0.950088</td>\n      <td>-0.151357</td>\n      <td>-0.103219</td>\n    </tr>\n    <tr>\n      <th>3</th>\n      <td>0.410599</td>\n      <td>0.144044</td>\n      <td>1.454274</td>\n    </tr>\n  </tbody>\n</table>\n</div>"
     },
     "execution_count": 9,
     "metadata": {},
     "output_type": "execute_result"
    }
   ],
   "source": [
    "# Ignore and reset the index\n",
    "\n",
    "pd.concat([df1, df2], ignore_index=True)\n"
   ],
   "metadata": {
    "collapsed": false,
    "ExecuteTime": {
     "end_time": "2023-10-09T01:52:57.122906Z",
     "start_time": "2023-10-09T01:52:57.055261Z"
    }
   }
  },
  {
   "cell_type": "code",
   "execution_count": 10,
   "outputs": [],
   "source": [
    "# Create df with index id and series\n",
    "\n",
    "np.random.seed(0)\n",
    "df1 = pd.DataFrame(data=np.random.normal(size=(2, 3)), index=['X', 'Y'], columns=['aa', 'bb', 'cc'])\n",
    "ser = pd.Series(data=np.random.normal(size=3), index=['aa', 'bb', 'cc'], name='Z')\n"
   ],
   "metadata": {
    "collapsed": false,
    "ExecuteTime": {
     "end_time": "2023-10-09T01:52:57.123199Z",
     "start_time": "2023-10-09T01:52:57.070713Z"
    }
   }
  },
  {
   "cell_type": "code",
   "execution_count": 11,
   "outputs": [
    {
     "data": {
      "text/plain": "         aa        bb        cc\nX  1.764052  0.400157  0.978738\nY  2.240893  1.867558 -0.977278",
      "text/html": "<div>\n<style scoped>\n    .dataframe tbody tr th:only-of-type {\n        vertical-align: middle;\n    }\n\n    .dataframe tbody tr th {\n        vertical-align: top;\n    }\n\n    .dataframe thead th {\n        text-align: right;\n    }\n</style>\n<table border=\"1\" class=\"dataframe\">\n  <thead>\n    <tr style=\"text-align: right;\">\n      <th></th>\n      <th>aa</th>\n      <th>bb</th>\n      <th>cc</th>\n    </tr>\n  </thead>\n  <tbody>\n    <tr>\n      <th>X</th>\n      <td>1.764052</td>\n      <td>0.400157</td>\n      <td>0.978738</td>\n    </tr>\n    <tr>\n      <th>Y</th>\n      <td>2.240893</td>\n      <td>1.867558</td>\n      <td>-0.977278</td>\n    </tr>\n  </tbody>\n</table>\n</div>"
     },
     "execution_count": 11,
     "metadata": {},
     "output_type": "execute_result"
    }
   ],
   "source": [
    "df1"
   ],
   "metadata": {
    "collapsed": false,
    "ExecuteTime": {
     "end_time": "2023-10-09T01:52:57.123867Z",
     "start_time": "2023-10-09T01:52:57.077089Z"
    }
   }
  },
  {
   "cell_type": "code",
   "execution_count": 12,
   "outputs": [
    {
     "data": {
      "text/plain": "aa    0.950088\nbb   -0.151357\ncc   -0.103219\nName: Z, dtype: float64"
     },
     "execution_count": 12,
     "metadata": {},
     "output_type": "execute_result"
    }
   ],
   "source": [
    "ser"
   ],
   "metadata": {
    "collapsed": false,
    "ExecuteTime": {
     "end_time": "2023-10-09T01:52:57.124402Z",
     "start_time": "2023-10-09T01:52:57.090828Z"
    }
   }
  },
  {
   "cell_type": "code",
   "execution_count": 14,
   "outputs": [
    {
     "name": "stderr",
     "output_type": "stream",
     "text": [
      "/var/folders/2c/n83jps3s6l36_lg9dl_v_5vm0000gn/T/ipykernel_3605/859782499.py:3: FutureWarning: The frame.append method is deprecated and will be removed from pandas in a future version. Use pandas.concat instead.\n",
      "  df1.append(ser)\n"
     ]
    },
    {
     "data": {
      "text/plain": "         aa        bb        cc\nX  1.764052  0.400157  0.978738\nY  2.240893  1.867558 -0.977278\nZ  0.950088 -0.151357 -0.103219",
      "text/html": "<div>\n<style scoped>\n    .dataframe tbody tr th:only-of-type {\n        vertical-align: middle;\n    }\n\n    .dataframe tbody tr th {\n        vertical-align: top;\n    }\n\n    .dataframe thead th {\n        text-align: right;\n    }\n</style>\n<table border=\"1\" class=\"dataframe\">\n  <thead>\n    <tr style=\"text-align: right;\">\n      <th></th>\n      <th>aa</th>\n      <th>bb</th>\n      <th>cc</th>\n    </tr>\n  </thead>\n  <tbody>\n    <tr>\n      <th>X</th>\n      <td>1.764052</td>\n      <td>0.400157</td>\n      <td>0.978738</td>\n    </tr>\n    <tr>\n      <th>Y</th>\n      <td>2.240893</td>\n      <td>1.867558</td>\n      <td>-0.977278</td>\n    </tr>\n    <tr>\n      <th>Z</th>\n      <td>0.950088</td>\n      <td>-0.151357</td>\n      <td>-0.103219</td>\n    </tr>\n  </tbody>\n</table>\n</div>"
     },
     "execution_count": 14,
     "metadata": {},
     "output_type": "execute_result"
    }
   ],
   "source": [
    "# Append series\n",
    "\n",
    "df1.append(ser)"
   ],
   "metadata": {
    "collapsed": false,
    "ExecuteTime": {
     "end_time": "2023-10-09T01:53:02.441390Z",
     "start_time": "2023-10-09T01:53:02.434090Z"
    }
   }
  },
  {
   "cell_type": "code",
   "execution_count": 24,
   "outputs": [],
   "source": [
    "# Create df different rows and columns names\n",
    "\n",
    "np.random.seed(0)\n",
    "df1 = pd.DataFrame(data=np.random.normal(size=(2,3)), index=['X', 'Y'], columns=['aa', 'bb', 'cc'])\n",
    "df2 = pd.DataFrame(data=np.random.normal(size=(2,3)), index=['Z', 'W'], columns=['aa', 'bb', 'dd'])\n"
   ],
   "metadata": {
    "collapsed": false,
    "ExecuteTime": {
     "end_time": "2023-10-09T02:09:17.963315Z",
     "start_time": "2023-10-09T02:09:17.958017Z"
    }
   }
  },
  {
   "cell_type": "code",
   "execution_count": 28,
   "outputs": [
    {
     "data": {
      "text/plain": "         aa        bb        cc\nX  1.764052  0.400157  0.978738\nY  2.240893  1.867558 -0.977278",
      "text/html": "<div>\n<style scoped>\n    .dataframe tbody tr th:only-of-type {\n        vertical-align: middle;\n    }\n\n    .dataframe tbody tr th {\n        vertical-align: top;\n    }\n\n    .dataframe thead th {\n        text-align: right;\n    }\n</style>\n<table border=\"1\" class=\"dataframe\">\n  <thead>\n    <tr style=\"text-align: right;\">\n      <th></th>\n      <th>aa</th>\n      <th>bb</th>\n      <th>cc</th>\n    </tr>\n  </thead>\n  <tbody>\n    <tr>\n      <th>X</th>\n      <td>1.764052</td>\n      <td>0.400157</td>\n      <td>0.978738</td>\n    </tr>\n    <tr>\n      <th>Y</th>\n      <td>2.240893</td>\n      <td>1.867558</td>\n      <td>-0.977278</td>\n    </tr>\n  </tbody>\n</table>\n</div>"
     },
     "execution_count": 28,
     "metadata": {},
     "output_type": "execute_result"
    }
   ],
   "source": [
    "df1"
   ],
   "metadata": {
    "collapsed": false,
    "ExecuteTime": {
     "end_time": "2023-10-09T02:10:46.029897Z",
     "start_time": "2023-10-09T02:10:46.023052Z"
    }
   }
  },
  {
   "cell_type": "code",
   "execution_count": 29,
   "outputs": [
    {
     "data": {
      "text/plain": "         aa        bb        dd\nZ  0.950088 -0.151357 -0.103219\nW  0.410599  0.144044  1.454274",
      "text/html": "<div>\n<style scoped>\n    .dataframe tbody tr th:only-of-type {\n        vertical-align: middle;\n    }\n\n    .dataframe tbody tr th {\n        vertical-align: top;\n    }\n\n    .dataframe thead th {\n        text-align: right;\n    }\n</style>\n<table border=\"1\" class=\"dataframe\">\n  <thead>\n    <tr style=\"text-align: right;\">\n      <th></th>\n      <th>aa</th>\n      <th>bb</th>\n      <th>dd</th>\n    </tr>\n  </thead>\n  <tbody>\n    <tr>\n      <th>Z</th>\n      <td>0.950088</td>\n      <td>-0.151357</td>\n      <td>-0.103219</td>\n    </tr>\n    <tr>\n      <th>W</th>\n      <td>0.410599</td>\n      <td>0.144044</td>\n      <td>1.454274</td>\n    </tr>\n  </tbody>\n</table>\n</div>"
     },
     "execution_count": 29,
     "metadata": {},
     "output_type": "execute_result"
    }
   ],
   "source": [
    "df2"
   ],
   "metadata": {
    "collapsed": false,
    "ExecuteTime": {
     "end_time": "2023-10-09T02:10:54.566534Z",
     "start_time": "2023-10-09T02:10:54.547113Z"
    }
   }
  },
  {
   "cell_type": "code",
   "execution_count": 31,
   "outputs": [
    {
     "data": {
      "text/plain": "         aa        bb        cc        dd\nX  1.764052  0.400157  0.978738       NaN\nY  2.240893  1.867558 -0.977278       NaN\nZ  0.950088 -0.151357       NaN -0.103219\nW  0.410599  0.144044       NaN  1.454274",
      "text/html": "<div>\n<style scoped>\n    .dataframe tbody tr th:only-of-type {\n        vertical-align: middle;\n    }\n\n    .dataframe tbody tr th {\n        vertical-align: top;\n    }\n\n    .dataframe thead th {\n        text-align: right;\n    }\n</style>\n<table border=\"1\" class=\"dataframe\">\n  <thead>\n    <tr style=\"text-align: right;\">\n      <th></th>\n      <th>aa</th>\n      <th>bb</th>\n      <th>cc</th>\n      <th>dd</th>\n    </tr>\n  </thead>\n  <tbody>\n    <tr>\n      <th>X</th>\n      <td>1.764052</td>\n      <td>0.400157</td>\n      <td>0.978738</td>\n      <td>NaN</td>\n    </tr>\n    <tr>\n      <th>Y</th>\n      <td>2.240893</td>\n      <td>1.867558</td>\n      <td>-0.977278</td>\n      <td>NaN</td>\n    </tr>\n    <tr>\n      <th>Z</th>\n      <td>0.950088</td>\n      <td>-0.151357</td>\n      <td>NaN</td>\n      <td>-0.103219</td>\n    </tr>\n    <tr>\n      <th>W</th>\n      <td>0.410599</td>\n      <td>0.144044</td>\n      <td>NaN</td>\n      <td>1.454274</td>\n    </tr>\n  </tbody>\n</table>\n</div>"
     },
     "execution_count": 31,
     "metadata": {},
     "output_type": "execute_result"
    }
   ],
   "source": [
    "# Concat df1 and df2. Display NaN for non combinations\n",
    "pd.concat([df1, df2])"
   ],
   "metadata": {
    "collapsed": false,
    "ExecuteTime": {
     "end_time": "2023-10-09T02:11:54.196904Z",
     "start_time": "2023-10-09T02:11:54.191191Z"
    }
   }
  },
  {
   "cell_type": "code",
   "execution_count": 4,
   "outputs": [
    {
     "data": {
      "text/plain": "    A   B   C   D   E\nW  72 -53  17  92 -33\nX  95   3 -91 -79 -64\nY -13 -30 -12  40 -42\nZ  93 -61 -13  74 -12",
      "text/html": "<div>\n<style scoped>\n    .dataframe tbody tr th:only-of-type {\n        vertical-align: middle;\n    }\n\n    .dataframe tbody tr th {\n        vertical-align: top;\n    }\n\n    .dataframe thead th {\n        text-align: right;\n    }\n</style>\n<table border=\"1\" class=\"dataframe\">\n  <thead>\n    <tr style=\"text-align: right;\">\n      <th></th>\n      <th>A</th>\n      <th>B</th>\n      <th>C</th>\n      <th>D</th>\n      <th>E</th>\n    </tr>\n  </thead>\n  <tbody>\n    <tr>\n      <th>W</th>\n      <td>72</td>\n      <td>-53</td>\n      <td>17</td>\n      <td>92</td>\n      <td>-33</td>\n    </tr>\n    <tr>\n      <th>X</th>\n      <td>95</td>\n      <td>3</td>\n      <td>-91</td>\n      <td>-79</td>\n      <td>-64</td>\n    </tr>\n    <tr>\n      <th>Y</th>\n      <td>-13</td>\n      <td>-30</td>\n      <td>-12</td>\n      <td>40</td>\n      <td>-42</td>\n    </tr>\n    <tr>\n      <th>Z</th>\n      <td>93</td>\n      <td>-61</td>\n      <td>-13</td>\n      <td>74</td>\n      <td>-12</td>\n    </tr>\n  </tbody>\n</table>\n</div>"
     },
     "execution_count": 4,
     "metadata": {},
     "output_type": "execute_result"
    }
   ],
   "source": [
    "# Create DataFrame with named index and columns\n",
    "np.random.seed(0)\n",
    "df = pd.DataFrame(np.random.randint(-100, 100, (4,5)), index=['W','X','Y','Z'], columns = ['A','B','C','D','E'])\n",
    "df\n"
   ],
   "metadata": {
    "collapsed": false,
    "ExecuteTime": {
     "end_time": "2023-10-25T01:58:11.823445Z",
     "start_time": "2023-10-25T01:58:11.799258Z"
    }
   }
  },
  {
   "cell_type": "code",
   "execution_count": 5,
   "outputs": [
    {
     "data": {
      "text/plain": "      A    B     C     D   E\nW  72.0  NaN  17.0  92.0 NaN\nX  95.0  3.0   NaN   NaN NaN\nY   NaN  NaN   NaN  40.0 NaN\nZ  93.0  NaN   NaN  74.0 NaN",
      "text/html": "<div>\n<style scoped>\n    .dataframe tbody tr th:only-of-type {\n        vertical-align: middle;\n    }\n\n    .dataframe tbody tr th {\n        vertical-align: top;\n    }\n\n    .dataframe thead th {\n        text-align: right;\n    }\n</style>\n<table border=\"1\" class=\"dataframe\">\n  <thead>\n    <tr style=\"text-align: right;\">\n      <th></th>\n      <th>A</th>\n      <th>B</th>\n      <th>C</th>\n      <th>D</th>\n      <th>E</th>\n    </tr>\n  </thead>\n  <tbody>\n    <tr>\n      <th>W</th>\n      <td>72.0</td>\n      <td>NaN</td>\n      <td>17.0</td>\n      <td>92.0</td>\n      <td>NaN</td>\n    </tr>\n    <tr>\n      <th>X</th>\n      <td>95.0</td>\n      <td>3.0</td>\n      <td>NaN</td>\n      <td>NaN</td>\n      <td>NaN</td>\n    </tr>\n    <tr>\n      <th>Y</th>\n      <td>NaN</td>\n      <td>NaN</td>\n      <td>NaN</td>\n      <td>40.0</td>\n      <td>NaN</td>\n    </tr>\n    <tr>\n      <th>Z</th>\n      <td>93.0</td>\n      <td>NaN</td>\n      <td>NaN</td>\n      <td>74.0</td>\n      <td>NaN</td>\n    </tr>\n  </tbody>\n</table>\n</div>"
     },
     "execution_count": 5,
     "metadata": {},
     "output_type": "execute_result"
    }
   ],
   "source": [
    "# Search for items in DataFrame\n",
    "df[df > 0]\n"
   ],
   "metadata": {
    "collapsed": false,
    "ExecuteTime": {
     "end_time": "2023-10-25T02:00:46.733417Z",
     "start_time": "2023-10-25T02:00:46.716431Z"
    }
   }
  },
  {
   "cell_type": "code",
   "execution_count": 6,
   "outputs": [
    {
     "data": {
      "text/plain": "W     True\nX    False\nY     True\nZ     True\nName: D, dtype: bool"
     },
     "execution_count": 6,
     "metadata": {},
     "output_type": "execute_result"
    }
   ],
   "source": [
    "# Search DataFrame in specific column\n",
    "df['D'] > 0\n"
   ],
   "metadata": {
    "collapsed": false,
    "ExecuteTime": {
     "end_time": "2023-10-25T02:04:02.169953Z",
     "start_time": "2023-10-25T02:04:02.162869Z"
    }
   }
  },
  {
   "cell_type": "code",
   "execution_count": 16,
   "outputs": [
    {
     "data": {
      "text/plain": "    A   B   C   D   E\nW  72 -53  17  92 -33\nY -13 -30 -12  40 -42",
      "text/html": "<div>\n<style scoped>\n    .dataframe tbody tr th:only-of-type {\n        vertical-align: middle;\n    }\n\n    .dataframe tbody tr th {\n        vertical-align: top;\n    }\n\n    .dataframe thead th {\n        text-align: right;\n    }\n</style>\n<table border=\"1\" class=\"dataframe\">\n  <thead>\n    <tr style=\"text-align: right;\">\n      <th></th>\n      <th>A</th>\n      <th>B</th>\n      <th>C</th>\n      <th>D</th>\n      <th>E</th>\n    </tr>\n  </thead>\n  <tbody>\n    <tr>\n      <th>W</th>\n      <td>72</td>\n      <td>-53</td>\n      <td>17</td>\n      <td>92</td>\n      <td>-33</td>\n    </tr>\n    <tr>\n      <th>Y</th>\n      <td>-13</td>\n      <td>-30</td>\n      <td>-12</td>\n      <td>40</td>\n      <td>-42</td>\n    </tr>\n  </tbody>\n</table>\n</div>"
     },
     "execution_count": 16,
     "metadata": {},
     "output_type": "execute_result"
    }
   ],
   "source": [
    "# Get rows from DataFrame that satisfies the condition from column D and drop others\n",
    "# Remember to us & and | or\n",
    "\n",
    "df[(df['D'] > 0) & (df['D']%4==0)]\n"
   ],
   "metadata": {
    "collapsed": false,
    "ExecuteTime": {
     "end_time": "2023-10-25T02:15:07.575772Z",
     "start_time": "2023-10-25T02:15:07.569563Z"
    }
   }
  },
  {
   "cell_type": "code",
   "execution_count": 21,
   "outputs": [
    {
     "data": {
      "text/plain": "a    1.0\nb    2.0\nc    3.0\nd    NaN\ne    5.0\nf    6.0\ng    NaN\nh    8.0\ndtype: float64"
     },
     "execution_count": 21,
     "metadata": {},
     "output_type": "execute_result"
    }
   ],
   "source": [
    "# Create series to work on missing data\n",
    "# Note index is a list in parentheses when return is comma separated\n",
    "\n",
    "ser = pd.Series(data=[1,2,3,None,5,6,np.nan,8], index=list('abcdefgh'))\n",
    "ser\n"
   ],
   "metadata": {
    "collapsed": false,
    "ExecuteTime": {
     "end_time": "2023-10-25T02:41:26.543250Z",
     "start_time": "2023-10-25T02:41:26.516853Z"
    }
   }
  },
  {
   "cell_type": "code",
   "execution_count": 24,
   "outputs": [
    {
     "data": {
      "text/plain": "a    False\nb    False\nc    False\nd     True\ne    False\nf    False\ng     True\nh    False\ndtype: bool"
     },
     "execution_count": 24,
     "metadata": {},
     "output_type": "execute_result"
    }
   ],
   "source": [
    "# Is the element NaN\n",
    "# NaN are not comparable\n",
    "\n",
    "pd.isna(ser)\n",
    "#pd.notna(ser)\n"
   ],
   "metadata": {
    "collapsed": false,
    "ExecuteTime": {
     "end_time": "2023-10-25T02:49:00.594435Z",
     "start_time": "2023-10-25T02:49:00.589461Z"
    }
   }
  },
  {
   "cell_type": "code",
   "execution_count": 17,
   "outputs": [
    {
     "data": {
      "text/plain": "      a     b     c     d      e\nX   1.0   2.0   3.0   NaN    5.0\nY   6.0   NaN   8.0   NaN   10.0\nZ   NaN   NaN   NaN   NaN    NaN\nW  60.0  70.0  80.0  90.0  100.0",
      "text/html": "<div>\n<style scoped>\n    .dataframe tbody tr th:only-of-type {\n        vertical-align: middle;\n    }\n\n    .dataframe tbody tr th {\n        vertical-align: top;\n    }\n\n    .dataframe thead th {\n        text-align: right;\n    }\n</style>\n<table border=\"1\" class=\"dataframe\">\n  <thead>\n    <tr style=\"text-align: right;\">\n      <th></th>\n      <th>a</th>\n      <th>b</th>\n      <th>c</th>\n      <th>d</th>\n      <th>e</th>\n    </tr>\n  </thead>\n  <tbody>\n    <tr>\n      <th>X</th>\n      <td>1.0</td>\n      <td>2.0</td>\n      <td>3.0</td>\n      <td>NaN</td>\n      <td>5.0</td>\n    </tr>\n    <tr>\n      <th>Y</th>\n      <td>6.0</td>\n      <td>NaN</td>\n      <td>8.0</td>\n      <td>NaN</td>\n      <td>10.0</td>\n    </tr>\n    <tr>\n      <th>Z</th>\n      <td>NaN</td>\n      <td>NaN</td>\n      <td>NaN</td>\n      <td>NaN</td>\n      <td>NaN</td>\n    </tr>\n    <tr>\n      <th>W</th>\n      <td>60.0</td>\n      <td>70.0</td>\n      <td>80.0</td>\n      <td>90.0</td>\n      <td>100.0</td>\n    </tr>\n  </tbody>\n</table>\n</div>"
     },
     "execution_count": 17,
     "metadata": {},
     "output_type": "execute_result"
    }
   ],
   "source": [
    "# Create DataFrame to drop missing data\n",
    "\n",
    "df = pd.DataFrame(data=[[1,2,3,np.nan,5],\n",
    "                        [6,np.nan,8,np.nan,10],\n",
    "                        [np.nan,np.nan,np.nan,np.nan,np.nan],\n",
    "                        [60,70,80,90,100]],\n",
    "                  index=list('XYZW'),\n",
    "                  columns=list('abcde'))\n",
    "\n",
    "df"
   ],
   "metadata": {
    "collapsed": false,
    "ExecuteTime": {
     "end_time": "2023-11-01T03:28:34.513200Z",
     "start_time": "2023-11-01T03:28:34.490818Z"
    }
   }
  },
  {
   "cell_type": "code",
   "execution_count": 31,
   "outputs": [
    {
     "data": {
      "text/plain": "      a     b     c     d      e\nW  60.0  70.0  80.0  90.0  100.0",
      "text/html": "<div>\n<style scoped>\n    .dataframe tbody tr th:only-of-type {\n        vertical-align: middle;\n    }\n\n    .dataframe tbody tr th {\n        vertical-align: top;\n    }\n\n    .dataframe thead th {\n        text-align: right;\n    }\n</style>\n<table border=\"1\" class=\"dataframe\">\n  <thead>\n    <tr style=\"text-align: right;\">\n      <th></th>\n      <th>a</th>\n      <th>b</th>\n      <th>c</th>\n      <th>d</th>\n      <th>e</th>\n    </tr>\n  </thead>\n  <tbody>\n    <tr>\n      <th>W</th>\n      <td>60.0</td>\n      <td>70.0</td>\n      <td>80.0</td>\n      <td>90.0</td>\n      <td>100.0</td>\n    </tr>\n  </tbody>\n</table>\n</div>"
     },
     "execution_count": 31,
     "metadata": {},
     "output_type": "execute_result"
    }
   ],
   "source": [
    "# Drop rows or columns with NaN\n",
    "# rows or 0, columns or 1\n",
    "\n",
    "df.dropna(axis='rows', how='any')\n"
   ],
   "metadata": {
    "collapsed": false,
    "ExecuteTime": {
     "end_time": "2023-11-01T03:59:05.511759Z",
     "start_time": "2023-11-01T03:59:05.498092Z"
    }
   }
  },
  {
   "cell_type": "code",
   "execution_count": 39,
   "outputs": [
    {
     "data": {
      "text/plain": "      a     b     c     d      e\nX   1.0   2.0   3.0   NaN    5.0\nY   6.0   NaN   8.0   NaN   10.0\nW  60.0  70.0  80.0  90.0  100.0",
      "text/html": "<div>\n<style scoped>\n    .dataframe tbody tr th:only-of-type {\n        vertical-align: middle;\n    }\n\n    .dataframe tbody tr th {\n        vertical-align: top;\n    }\n\n    .dataframe thead th {\n        text-align: right;\n    }\n</style>\n<table border=\"1\" class=\"dataframe\">\n  <thead>\n    <tr style=\"text-align: right;\">\n      <th></th>\n      <th>a</th>\n      <th>b</th>\n      <th>c</th>\n      <th>d</th>\n      <th>e</th>\n    </tr>\n  </thead>\n  <tbody>\n    <tr>\n      <th>X</th>\n      <td>1.0</td>\n      <td>2.0</td>\n      <td>3.0</td>\n      <td>NaN</td>\n      <td>5.0</td>\n    </tr>\n    <tr>\n      <th>Y</th>\n      <td>6.0</td>\n      <td>NaN</td>\n      <td>8.0</td>\n      <td>NaN</td>\n      <td>10.0</td>\n    </tr>\n    <tr>\n      <th>W</th>\n      <td>60.0</td>\n      <td>70.0</td>\n      <td>80.0</td>\n      <td>90.0</td>\n      <td>100.0</td>\n    </tr>\n  </tbody>\n</table>\n</div>"
     },
     "execution_count": 39,
     "metadata": {},
     "output_type": "execute_result"
    }
   ],
   "source": [
    "# Thresh minimum number of items that contains data\n",
    "# Add inplace=True to keep changes\n",
    "\n",
    "df.dropna(axis='rows', thresh=3)\n"
   ],
   "metadata": {
    "collapsed": false,
    "ExecuteTime": {
     "end_time": "2023-11-01T04:28:56.078642Z",
     "start_time": "2023-11-01T04:28:56.072272Z"
    }
   }
  },
  {
   "cell_type": "code",
   "execution_count": 41,
   "outputs": [
    {
     "data": {
      "text/plain": "           a     b          c     d           e\nX   1.000000   2.0   3.000000  90.0    5.000000\nY   6.000000  36.0   8.000000  90.0   10.000000\nZ  22.333333  36.0  30.333333  90.0   38.333333\nW  60.000000  70.0  80.000000  90.0  100.000000",
      "text/html": "<div>\n<style scoped>\n    .dataframe tbody tr th:only-of-type {\n        vertical-align: middle;\n    }\n\n    .dataframe tbody tr th {\n        vertical-align: top;\n    }\n\n    .dataframe thead th {\n        text-align: right;\n    }\n</style>\n<table border=\"1\" class=\"dataframe\">\n  <thead>\n    <tr style=\"text-align: right;\">\n      <th></th>\n      <th>a</th>\n      <th>b</th>\n      <th>c</th>\n      <th>d</th>\n      <th>e</th>\n    </tr>\n  </thead>\n  <tbody>\n    <tr>\n      <th>X</th>\n      <td>1.000000</td>\n      <td>2.0</td>\n      <td>3.000000</td>\n      <td>90.0</td>\n      <td>5.000000</td>\n    </tr>\n    <tr>\n      <th>Y</th>\n      <td>6.000000</td>\n      <td>36.0</td>\n      <td>8.000000</td>\n      <td>90.0</td>\n      <td>10.000000</td>\n    </tr>\n    <tr>\n      <th>Z</th>\n      <td>22.333333</td>\n      <td>36.0</td>\n      <td>30.333333</td>\n      <td>90.0</td>\n      <td>38.333333</td>\n    </tr>\n    <tr>\n      <th>W</th>\n      <td>60.000000</td>\n      <td>70.0</td>\n      <td>80.000000</td>\n      <td>90.0</td>\n      <td>100.000000</td>\n    </tr>\n  </tbody>\n</table>\n</div>"
     },
     "execution_count": 41,
     "metadata": {},
     "output_type": "execute_result"
    }
   ],
   "source": [
    "# Fill NaN with the mean of columns\n",
    "\n",
    "df.fillna(df.mean())\n"
   ],
   "metadata": {
    "collapsed": false,
    "ExecuteTime": {
     "end_time": "2023-11-01T04:37:38.340650Z",
     "start_time": "2023-11-01T04:37:38.300927Z"
    }
   }
  },
  {
   "cell_type": "code",
   "execution_count": 46,
   "outputs": [
    {
     "data": {
      "text/plain": "      a     b     c     d      e\nX   1.0   2.0   3.0  90.0    5.0\nY   6.0  36.0   8.0  90.0   10.0\nZ   NaN  36.0   NaN  90.0    NaN\nW  60.0  70.0  80.0  90.0  100.0",
      "text/html": "<div>\n<style scoped>\n    .dataframe tbody tr th:only-of-type {\n        vertical-align: middle;\n    }\n\n    .dataframe tbody tr th {\n        vertical-align: top;\n    }\n\n    .dataframe thead th {\n        text-align: right;\n    }\n</style>\n<table border=\"1\" class=\"dataframe\">\n  <thead>\n    <tr style=\"text-align: right;\">\n      <th></th>\n      <th>a</th>\n      <th>b</th>\n      <th>c</th>\n      <th>d</th>\n      <th>e</th>\n    </tr>\n  </thead>\n  <tbody>\n    <tr>\n      <th>X</th>\n      <td>1.0</td>\n      <td>2.0</td>\n      <td>3.0</td>\n      <td>90.0</td>\n      <td>5.0</td>\n    </tr>\n    <tr>\n      <th>Y</th>\n      <td>6.0</td>\n      <td>36.0</td>\n      <td>8.0</td>\n      <td>90.0</td>\n      <td>10.0</td>\n    </tr>\n    <tr>\n      <th>Z</th>\n      <td>NaN</td>\n      <td>36.0</td>\n      <td>NaN</td>\n      <td>90.0</td>\n      <td>NaN</td>\n    </tr>\n    <tr>\n      <th>W</th>\n      <td>60.0</td>\n      <td>70.0</td>\n      <td>80.0</td>\n      <td>90.0</td>\n      <td>100.0</td>\n    </tr>\n  </tbody>\n</table>\n</div>"
     },
     "execution_count": 46,
     "metadata": {},
     "output_type": "execute_result"
    }
   ],
   "source": [
    "# Fill NaN with the mean on specific columns\n",
    "\n",
    "df.fillna(value=df.mean()[['b','d']])"
   ],
   "metadata": {
    "collapsed": false,
    "ExecuteTime": {
     "end_time": "2023-11-01T04:43:38.253370Z",
     "start_time": "2023-11-01T04:43:38.242061Z"
    }
   }
  },
  {
   "cell_type": "code",
   "execution_count": 52,
   "outputs": [
    {
     "data": {
      "text/plain": "X     2.0\nY    36.0\nZ    36.0\nW    70.0\nName: b, dtype: float64"
     },
     "execution_count": 52,
     "metadata": {},
     "output_type": "execute_result"
    }
   ],
   "source": [
    "# Isolate specific column and fill NaN with the mean\n",
    "\n",
    "df['b'].fillna(value=df['b'].mean())\n"
   ],
   "metadata": {
    "collapsed": false,
    "ExecuteTime": {
     "end_time": "2023-11-01T04:54:31.796393Z",
     "start_time": "2023-11-01T04:54:31.785902Z"
    }
   }
  },
  {
   "cell_type": "code",
   "execution_count": null,
   "outputs": [],
   "source": [
    "\n"
   ],
   "metadata": {
    "collapsed": false
   }
  }
 ],
 "metadata": {
  "kernelspec": {
   "display_name": "Python 3",
   "language": "python",
   "name": "python3"
  },
  "language_info": {
   "codemirror_mode": {
    "name": "ipython",
    "version": 2
   },
   "file_extension": ".py",
   "mimetype": "text/x-python",
   "name": "python",
   "nbconvert_exporter": "python",
   "pygments_lexer": "ipython2",
   "version": "2.7.6"
  }
 },
 "nbformat": 4,
 "nbformat_minor": 0
}
