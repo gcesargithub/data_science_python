{
 "cells": [
  {
   "metadata": {},
   "cell_type": "markdown",
   "source": "Cesar Garcia",
   "id": "b211f3cc8cbf5803"
  },
  {
   "metadata": {},
   "cell_type": "code",
   "outputs": [],
   "execution_count": 38,
   "source": [
    "\"\"\"Import libraries\"\"\"\n",
    "# Import Regex\n",
    "import re\n"
   ],
   "id": "9fdf07b5b3340764"
  },
  {
   "metadata": {
    "ExecuteTime": {
     "end_time": "2024-05-29T04:17:23.376005Z",
     "start_time": "2024-05-29T04:17:23.368722Z"
    }
   },
   "cell_type": "code",
   "source": [
    "# Split\n",
    "x = ['www.a.com', 'www.b.com', 'www.c.com']\n",
    "y = []\n",
    "for i in x:\n",
    "    y.append(i.split('.')[1] + '.' + i.split('.')[2])\n",
    "print(y)"
   ],
   "id": "db85e7ef37df43dd",
   "outputs": [
    {
     "name": "stdout",
     "output_type": "stream",
     "text": [
      "['a.com', 'b.com', 'c.com']\n"
     ]
    }
   ],
   "execution_count": 40
  },
  {
   "metadata": {
    "ExecuteTime": {
     "end_time": "2024-05-29T05:19:34.163852Z",
     "start_time": "2024-05-29T05:19:34.157935Z"
    }
   },
   "cell_type": "code",
   "source": [
    "# Substitute word Cesar -> Pablo\n",
    "oldstr = \"Hi my name is Cesar\"\n",
    "\n",
    "regex = re.compile(r\"\\bCesar\\b\")\n",
    "#regex = re.compile(\"Cesar\", re.VERBOSE)\n",
    "newstr = regex.sub(\"Pablo\", oldstr, count=0)\n",
    "print(newstr)\n"
   ],
   "id": "90b07aa163052844",
   "outputs": [
    {
     "name": "stdout",
     "output_type": "stream",
     "text": [
      "Hi my name is Pablo\n"
     ]
    }
   ],
   "execution_count": 56
  },
  {
   "metadata": {
    "ExecuteTime": {
     "end_time": "2024-05-29T05:20:49.344544Z",
     "start_time": "2024-05-29T05:20:49.338561Z"
    }
   },
   "cell_type": "code",
   "source": [
    "# Replace sequence r\"\\w, r\"[\\d], r\"[a-Z]', re.IGNORECASE\n",
    "oldstr = \"Hi my name is Cesar\"\n",
    "\n",
    "# All spaces and special characters\n",
    "regex = re.compile(r\"[^\\w]\")\n",
    "\n",
    "# All spaces\n",
    "#regex = re.compile(r\"[\\s]\")\n",
    "\n",
    "newstr = regex.sub(\"#\", oldstr)\n",
    "print(newstr)\n"
   ],
   "id": "c2756e1c93d2a6c7",
   "outputs": [
    {
     "name": "stdout",
     "output_type": "stream",
     "text": [
      "Hi#my#name#is#Cesar\n"
     ]
    }
   ],
   "execution_count": 57
  },
  {
   "metadata": {
    "ExecuteTime": {
     "end_time": "2024-05-29T05:50:53.247280Z",
     "start_time": "2024-05-29T05:50:53.238763Z"
    }
   },
   "cell_type": "code",
   "source": [
    "# Find all file extension\n",
    "fnamestr = \"The two files are foo1.bar and foo2.bar. There are no other files.\"\n",
    "print(fnamestr)\n",
    "\n",
    "regex = re.compile(r\"\\b\\w+[.]\\w+\\b\")\n",
    "newstr = regex.findall(fnamestr)\n",
    "print(newstr)\n"
   ],
   "id": "6ab5889ea2c44705",
   "outputs": [
    {
     "name": "stdout",
     "output_type": "stream",
     "text": [
      "The two files are foo1.bar and foo2.bar. There are no other files.\n",
      "['foo1.bar', 'foo2.bar']\n"
     ]
    }
   ],
   "execution_count": 85
  },
  {
   "metadata": {
    "ExecuteTime": {
     "end_time": "2024-05-29T06:19:40.381712Z",
     "start_time": "2024-05-29T06:19:40.373552Z"
    }
   },
   "cell_type": "code",
   "source": [
    "#\n",
    "\n",
    "import string\n",
    "\n",
    "laststr = \"Hey! Are we still on for lunch at 11AM?\"\n",
    "print(laststr)\n",
    "\n",
    "regex = re.compile(r\"[%s%s]\" % (string.digits, string.punctuation))\n",
    "newstr = regex.sub(\"\", laststr)\n",
    "print(newstr)\n"
   ],
   "id": "6a847f1d78ba9abe",
   "outputs": [
    {
     "name": "stdout",
     "output_type": "stream",
     "text": [
      "Hey! Are we still on for lunch at 11AM?\n",
      "Hey Are we still on for lunch at AM\n"
     ]
    }
   ],
   "execution_count": 94
  },
  {
   "metadata": {},
   "cell_type": "code",
   "outputs": [],
   "execution_count": null,
   "source": "",
   "id": "2534a62dd33a012a"
  }
 ],
 "metadata": {
  "kernelspec": {
   "display_name": "Python 3",
   "language": "python",
   "name": "python3"
  },
  "language_info": {
   "codemirror_mode": {
    "name": "ipython",
    "version": 2
   },
   "file_extension": ".py",
   "mimetype": "text/x-python",
   "name": "python",
   "nbconvert_exporter": "python",
   "pygments_lexer": "ipython2",
   "version": "2.7.6"
  }
 },
 "nbformat": 4,
 "nbformat_minor": 5
}
