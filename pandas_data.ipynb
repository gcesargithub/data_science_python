{
 "cells": [
  {
   "cell_type": "markdown",
   "metadata": {},
   "source": [
    "# Ex3 - Getting and Knowing your Data"
   ]
  },
  {
   "cell_type": "markdown",
   "metadata": {},
   "source": [
    "This time we are going to pull data directly from the internet.\n",
    "Special thanks to: https://github.com/justmarkham for sharing the dataset and materials.\n",
    "\n",
    "### Step 1. Import the necessary libraries"
   ]
  },
  {
   "cell_type": "code",
   "execution_count": 72,
   "metadata": {
    "collapsed": false,
    "ExecuteTime": {
     "end_time": "2023-07-31T01:44:20.698397Z",
     "start_time": "2023-07-31T01:44:20.427032Z"
    }
   },
   "outputs": [],
   "source": [
    "# Always import numpy and pandas together\n",
    "import numpy as np\n",
    "import pandas as pd\n"
   ]
  },
  {
   "cell_type": "markdown",
   "metadata": {},
   "source": [
    "### Step 2. Import the dataset from this [address](https://raw.githubusercontent.com/justmarkham/DAT8/master/data/u.user).\n",
    "\n",
    "df = pd.read_csv('https://raw.githubusercontent.com/justmarkham/DAT8/master/data/u.user')\n",
    "\n"
   ]
  },
  {
   "cell_type": "markdown",
   "metadata": {},
   "source": [
    "### Step 3. Assign it to a variable called df and use the 'user_id' as index"
   ]
  },
  {
   "cell_type": "code",
   "execution_count": 73,
   "metadata": {
    "collapsed": false,
    "ExecuteTime": {
     "end_time": "2023-07-31T01:44:20.996306Z",
     "start_time": "2023-07-31T01:44:20.450120Z"
    }
   },
   "outputs": [],
   "source": [
    "# Read content from a link, sep by |, and index by column user_id. This create a dataframe\n",
    "df = pd.read_csv('https://raw.githubusercontent.com/justmarkham/DAT8/master/data/u.user', sep='|', index_col='user_id')"
   ]
  },
  {
   "cell_type": "markdown",
   "metadata": {},
   "source": [
    "### Step 4. See the first 25 entries"
   ]
  },
  {
   "cell_type": "code",
   "execution_count": 74,
   "metadata": {
    "collapsed": false,
    "scrolled": true,
    "ExecuteTime": {
     "end_time": "2023-07-31T01:44:20.996771Z",
     "start_time": "2023-07-31T01:44:20.801388Z"
    }
   },
   "outputs": [
    {
     "data": {
      "text/plain": "         age gender     occupation zip_code\nuser_id                                    \n1         24      M     technician    85711\n2         53      F          other    94043\n3         23      M         writer    32067\n4         24      M     technician    43537\n5         33      F          other    15213\n6         42      M      executive    98101\n7         57      M  administrator    91344\n8         36      M  administrator    05201\n9         29      M        student    01002\n10        53      M         lawyer    90703\n11        39      F          other    30329\n12        28      F          other    06405\n13        47      M       educator    29206\n14        45      M      scientist    55106\n15        49      F       educator    97301\n16        21      M  entertainment    10309\n17        30      M     programmer    06355\n18        35      F          other    37212\n19        40      M      librarian    02138\n20        42      F      homemaker    95660\n21        26      M         writer    30068\n22        25      M         writer    40206\n23        30      F         artist    48197\n24        21      F         artist    94533\n25        39      M       engineer    55107",
      "text/html": "<div>\n<style scoped>\n    .dataframe tbody tr th:only-of-type {\n        vertical-align: middle;\n    }\n\n    .dataframe tbody tr th {\n        vertical-align: top;\n    }\n\n    .dataframe thead th {\n        text-align: right;\n    }\n</style>\n<table border=\"1\" class=\"dataframe\">\n  <thead>\n    <tr style=\"text-align: right;\">\n      <th></th>\n      <th>age</th>\n      <th>gender</th>\n      <th>occupation</th>\n      <th>zip_code</th>\n    </tr>\n    <tr>\n      <th>user_id</th>\n      <th></th>\n      <th></th>\n      <th></th>\n      <th></th>\n    </tr>\n  </thead>\n  <tbody>\n    <tr>\n      <th>1</th>\n      <td>24</td>\n      <td>M</td>\n      <td>technician</td>\n      <td>85711</td>\n    </tr>\n    <tr>\n      <th>2</th>\n      <td>53</td>\n      <td>F</td>\n      <td>other</td>\n      <td>94043</td>\n    </tr>\n    <tr>\n      <th>3</th>\n      <td>23</td>\n      <td>M</td>\n      <td>writer</td>\n      <td>32067</td>\n    </tr>\n    <tr>\n      <th>4</th>\n      <td>24</td>\n      <td>M</td>\n      <td>technician</td>\n      <td>43537</td>\n    </tr>\n    <tr>\n      <th>5</th>\n      <td>33</td>\n      <td>F</td>\n      <td>other</td>\n      <td>15213</td>\n    </tr>\n    <tr>\n      <th>6</th>\n      <td>42</td>\n      <td>M</td>\n      <td>executive</td>\n      <td>98101</td>\n    </tr>\n    <tr>\n      <th>7</th>\n      <td>57</td>\n      <td>M</td>\n      <td>administrator</td>\n      <td>91344</td>\n    </tr>\n    <tr>\n      <th>8</th>\n      <td>36</td>\n      <td>M</td>\n      <td>administrator</td>\n      <td>05201</td>\n    </tr>\n    <tr>\n      <th>9</th>\n      <td>29</td>\n      <td>M</td>\n      <td>student</td>\n      <td>01002</td>\n    </tr>\n    <tr>\n      <th>10</th>\n      <td>53</td>\n      <td>M</td>\n      <td>lawyer</td>\n      <td>90703</td>\n    </tr>\n    <tr>\n      <th>11</th>\n      <td>39</td>\n      <td>F</td>\n      <td>other</td>\n      <td>30329</td>\n    </tr>\n    <tr>\n      <th>12</th>\n      <td>28</td>\n      <td>F</td>\n      <td>other</td>\n      <td>06405</td>\n    </tr>\n    <tr>\n      <th>13</th>\n      <td>47</td>\n      <td>M</td>\n      <td>educator</td>\n      <td>29206</td>\n    </tr>\n    <tr>\n      <th>14</th>\n      <td>45</td>\n      <td>M</td>\n      <td>scientist</td>\n      <td>55106</td>\n    </tr>\n    <tr>\n      <th>15</th>\n      <td>49</td>\n      <td>F</td>\n      <td>educator</td>\n      <td>97301</td>\n    </tr>\n    <tr>\n      <th>16</th>\n      <td>21</td>\n      <td>M</td>\n      <td>entertainment</td>\n      <td>10309</td>\n    </tr>\n    <tr>\n      <th>17</th>\n      <td>30</td>\n      <td>M</td>\n      <td>programmer</td>\n      <td>06355</td>\n    </tr>\n    <tr>\n      <th>18</th>\n      <td>35</td>\n      <td>F</td>\n      <td>other</td>\n      <td>37212</td>\n    </tr>\n    <tr>\n      <th>19</th>\n      <td>40</td>\n      <td>M</td>\n      <td>librarian</td>\n      <td>02138</td>\n    </tr>\n    <tr>\n      <th>20</th>\n      <td>42</td>\n      <td>F</td>\n      <td>homemaker</td>\n      <td>95660</td>\n    </tr>\n    <tr>\n      <th>21</th>\n      <td>26</td>\n      <td>M</td>\n      <td>writer</td>\n      <td>30068</td>\n    </tr>\n    <tr>\n      <th>22</th>\n      <td>25</td>\n      <td>M</td>\n      <td>writer</td>\n      <td>40206</td>\n    </tr>\n    <tr>\n      <th>23</th>\n      <td>30</td>\n      <td>F</td>\n      <td>artist</td>\n      <td>48197</td>\n    </tr>\n    <tr>\n      <th>24</th>\n      <td>21</td>\n      <td>F</td>\n      <td>artist</td>\n      <td>94533</td>\n    </tr>\n    <tr>\n      <th>25</th>\n      <td>39</td>\n      <td>M</td>\n      <td>engineer</td>\n      <td>55107</td>\n    </tr>\n  </tbody>\n</table>\n</div>"
     },
     "execution_count": 74,
     "metadata": {},
     "output_type": "execute_result"
    }
   ],
   "source": [
    "# First 25 items printed\n",
    "df.head(25)"
   ]
  },
  {
   "cell_type": "markdown",
   "metadata": {},
   "source": [
    "### Step 5. See the last 10 entries"
   ]
  },
  {
   "cell_type": "code",
   "execution_count": 75,
   "metadata": {
    "collapsed": false,
    "scrolled": true,
    "ExecuteTime": {
     "end_time": "2023-07-31T01:44:20.997090Z",
     "start_time": "2023-07-31T01:44:20.810931Z"
    }
   },
   "outputs": [
    {
     "data": {
      "text/plain": "         age gender     occupation zip_code\nuser_id                                    \n939       26      F        student    33319\n940       32      M  administrator    02215\n941       20      M        student    97229\n942       48      F      librarian    78209\n943       22      M        student    77841",
      "text/html": "<div>\n<style scoped>\n    .dataframe tbody tr th:only-of-type {\n        vertical-align: middle;\n    }\n\n    .dataframe tbody tr th {\n        vertical-align: top;\n    }\n\n    .dataframe thead th {\n        text-align: right;\n    }\n</style>\n<table border=\"1\" class=\"dataframe\">\n  <thead>\n    <tr style=\"text-align: right;\">\n      <th></th>\n      <th>age</th>\n      <th>gender</th>\n      <th>occupation</th>\n      <th>zip_code</th>\n    </tr>\n    <tr>\n      <th>user_id</th>\n      <th></th>\n      <th></th>\n      <th></th>\n      <th></th>\n    </tr>\n  </thead>\n  <tbody>\n    <tr>\n      <th>939</th>\n      <td>26</td>\n      <td>F</td>\n      <td>student</td>\n      <td>33319</td>\n    </tr>\n    <tr>\n      <th>940</th>\n      <td>32</td>\n      <td>M</td>\n      <td>administrator</td>\n      <td>02215</td>\n    </tr>\n    <tr>\n      <th>941</th>\n      <td>20</td>\n      <td>M</td>\n      <td>student</td>\n      <td>97229</td>\n    </tr>\n    <tr>\n      <th>942</th>\n      <td>48</td>\n      <td>F</td>\n      <td>librarian</td>\n      <td>78209</td>\n    </tr>\n    <tr>\n      <th>943</th>\n      <td>22</td>\n      <td>M</td>\n      <td>student</td>\n      <td>77841</td>\n    </tr>\n  </tbody>\n</table>\n</div>"
     },
     "execution_count": 75,
     "metadata": {},
     "output_type": "execute_result"
    }
   ],
   "source": [
    "# Last 10 items printed\n",
    "df.tail()"
   ]
  },
  {
   "cell_type": "markdown",
   "metadata": {},
   "source": [
    "### Step 6. What is the number of observations in the dataset?"
   ]
  },
  {
   "cell_type": "code",
   "execution_count": 76,
   "metadata": {
    "collapsed": false,
    "ExecuteTime": {
     "end_time": "2023-07-31T01:44:20.997376Z",
     "start_time": "2023-07-31T01:44:20.819122Z"
    }
   },
   "outputs": [
    {
     "data": {
      "text/plain": "943"
     },
     "execution_count": 76,
     "metadata": {},
     "output_type": "execute_result"
    }
   ],
   "source": [
    "#Display two numbers. First amount of rows and second number of columns\n",
    "df.shape[0]"
   ]
  },
  {
   "cell_type": "markdown",
   "metadata": {},
   "source": [
    "### Step 7. What is the number of columns in the dataset?"
   ]
  },
  {
   "cell_type": "code",
   "execution_count": 77,
   "metadata": {
    "collapsed": false,
    "ExecuteTime": {
     "end_time": "2023-07-31T01:44:20.997622Z",
     "start_time": "2023-07-31T01:44:20.825341Z"
    }
   },
   "outputs": [
    {
     "data": {
      "text/plain": "4"
     },
     "execution_count": 77,
     "metadata": {},
     "output_type": "execute_result"
    }
   ],
   "source": [
    "# Display two numbers. First amount of rows and second number of columns\n",
    "df.shape[1]"
   ]
  },
  {
   "cell_type": "markdown",
   "metadata": {},
   "source": [
    "### Step 8. Print the name of all the columns."
   ]
  },
  {
   "cell_type": "code",
   "execution_count": 78,
   "metadata": {
    "collapsed": false,
    "ExecuteTime": {
     "end_time": "2023-07-31T01:44:20.998015Z",
     "start_time": "2023-07-31T01:44:20.831847Z"
    }
   },
   "outputs": [
    {
     "data": {
      "text/plain": "Index(['age', 'gender', 'occupation', 'zip_code'], dtype='object')"
     },
     "execution_count": 78,
     "metadata": {},
     "output_type": "execute_result"
    }
   ],
   "source": [
    "#Print columns names\n",
    "df.columns"
   ]
  },
  {
   "cell_type": "markdown",
   "metadata": {},
   "source": [
    "### Step 9. How is the dataset indexed?"
   ]
  },
  {
   "cell_type": "code",
   "execution_count": 79,
   "metadata": {
    "collapsed": false,
    "ExecuteTime": {
     "end_time": "2023-07-31T01:44:20.998366Z",
     "start_time": "2023-07-31T01:44:20.837600Z"
    }
   },
   "outputs": [
    {
     "data": {
      "text/plain": "Int64Index([  1,   2,   3,   4,   5,   6,   7,   8,   9,  10,\n            ...\n            934, 935, 936, 937, 938, 939, 940, 941, 942, 943],\n           dtype='int64', name='user_id', length=943)"
     },
     "execution_count": 79,
     "metadata": {},
     "output_type": "execute_result"
    }
   ],
   "source": [
    "# Print labels of the index\n",
    "df.index"
   ]
  },
  {
   "cell_type": "markdown",
   "metadata": {},
   "source": [
    "### Step 10. What is the data type of each column?"
   ]
  },
  {
   "cell_type": "code",
   "execution_count": 80,
   "metadata": {
    "collapsed": false,
    "ExecuteTime": {
     "end_time": "2023-07-31T01:44:20.998559Z",
     "start_time": "2023-07-31T01:44:20.846148Z"
    }
   },
   "outputs": [
    {
     "data": {
      "text/plain": "age            int64\ngender        object\noccupation    object\nzip_code      object\ndtype: object"
     },
     "execution_count": 80,
     "metadata": {},
     "output_type": "execute_result"
    }
   ],
   "source": [
    "# Display all data types of each column\n",
    "df.dtypes"
   ]
  },
  {
   "cell_type": "markdown",
   "metadata": {},
   "source": [
    "### Step 11. Print only the occupation column"
   ]
  },
  {
   "cell_type": "code",
   "execution_count": 81,
   "metadata": {
    "collapsed": false,
    "ExecuteTime": {
     "end_time": "2023-07-31T01:44:20.998752Z",
     "start_time": "2023-07-31T01:44:20.852413Z"
    }
   },
   "outputs": [
    {
     "data": {
      "text/plain": "user_id\n1         technician\n2              other\n3             writer\n4         technician\n5              other\n           ...      \n939          student\n940    administrator\n941          student\n942        librarian\n943          student\nName: occupation, Length: 943, dtype: object"
     },
     "execution_count": 81,
     "metadata": {},
     "output_type": "execute_result"
    }
   ],
   "source": [
    "# Print column contents and used df as convention\n",
    "df['occupation']\n"
   ]
  },
  {
   "cell_type": "markdown",
   "metadata": {},
   "source": [
    "### Step 12. How many different occupations are in this dataset?"
   ]
  },
  {
   "cell_type": "code",
   "execution_count": 82,
   "metadata": {
    "collapsed": false,
    "ExecuteTime": {
     "end_time": "2023-07-31T01:44:20.999011Z",
     "start_time": "2023-07-31T01:44:20.863615Z"
    }
   },
   "outputs": [
    {
     "data": {
      "text/plain": "age            61\ngender          2\noccupation     21\nzip_code      795\ndtype: int64"
     },
     "execution_count": 82,
     "metadata": {},
     "output_type": "execute_result"
    }
   ],
   "source": [
    "# Output unique values\n",
    "df.nunique()"
   ]
  },
  {
   "cell_type": "markdown",
   "metadata": {},
   "source": [
    "### Step 13. What is the most frequent occupation?"
   ]
  },
  {
   "cell_type": "code",
   "execution_count": 83,
   "metadata": {
    "collapsed": false,
    "ExecuteTime": {
     "end_time": "2023-07-31T01:44:20.999277Z",
     "start_time": "2023-07-31T01:44:20.872866Z"
    }
   },
   "outputs": [
    {
     "data": {
      "text/plain": "age  gender  occupation  zip_code\n28   M       student     55414       2\n44   F       other       60630       2\n17   M       student     60402       2\n51   M       educator    20003       2\n21   F       student     55414       2\n                                    ..\n27   M       lawyer      47130       1\n             marketing   11217       1\n                         19382       1\n             other       30350       1\n73   M       retired     37771       1\nLength: 936, dtype: int64"
     },
     "execution_count": 83,
     "metadata": {},
     "output_type": "execute_result"
    }
   ],
   "source": [
    "# Group and count items\n",
    "df.value_counts()"
   ]
  },
  {
   "cell_type": "markdown",
   "metadata": {},
   "source": [
    "### Step 14. Summarize the DataFrame."
   ]
  },
  {
   "cell_type": "code",
   "execution_count": 84,
   "metadata": {
    "collapsed": false,
    "ExecuteTime": {
     "end_time": "2023-07-31T01:44:20.999453Z",
     "start_time": "2023-07-31T01:44:20.889562Z"
    }
   },
   "outputs": [
    {
     "data": {
      "text/plain": "              age\ncount  943.000000\nmean    34.051962\nstd     12.192740\nmin      7.000000\n25%     25.000000\n50%     31.000000\n75%     43.000000\nmax     73.000000",
      "text/html": "<div>\n<style scoped>\n    .dataframe tbody tr th:only-of-type {\n        vertical-align: middle;\n    }\n\n    .dataframe tbody tr th {\n        vertical-align: top;\n    }\n\n    .dataframe thead th {\n        text-align: right;\n    }\n</style>\n<table border=\"1\" class=\"dataframe\">\n  <thead>\n    <tr style=\"text-align: right;\">\n      <th></th>\n      <th>age</th>\n    </tr>\n  </thead>\n  <tbody>\n    <tr>\n      <th>count</th>\n      <td>943.000000</td>\n    </tr>\n    <tr>\n      <th>mean</th>\n      <td>34.051962</td>\n    </tr>\n    <tr>\n      <th>std</th>\n      <td>12.192740</td>\n    </tr>\n    <tr>\n      <th>min</th>\n      <td>7.000000</td>\n    </tr>\n    <tr>\n      <th>25%</th>\n      <td>25.000000</td>\n    </tr>\n    <tr>\n      <th>50%</th>\n      <td>31.000000</td>\n    </tr>\n    <tr>\n      <th>75%</th>\n      <td>43.000000</td>\n    </tr>\n    <tr>\n      <th>max</th>\n      <td>73.000000</td>\n    </tr>\n  </tbody>\n</table>\n</div>"
     },
     "execution_count": 84,
     "metadata": {},
     "output_type": "execute_result"
    }
   ],
   "source": [
    "# Summarizes dataframe\n",
    "df.describe()"
   ]
  },
  {
   "cell_type": "markdown",
   "metadata": {},
   "source": [
    "### Step 15. Summarize all the columns"
   ]
  },
  {
   "cell_type": "code",
   "execution_count": 85,
   "metadata": {
    "collapsed": false,
    "ExecuteTime": {
     "end_time": "2023-07-31T01:44:20.999626Z",
     "start_time": "2023-07-31T01:44:20.899888Z"
    }
   },
   "outputs": [
    {
     "data": {
      "text/plain": "               age gender occupation zip_code\ncount   943.000000    943        943      943\nunique         NaN      2         21      795\ntop            NaN      M    student    55414\nfreq           NaN    670        196        9\nmean     34.051962    NaN        NaN      NaN\nstd      12.192740    NaN        NaN      NaN\nmin       7.000000    NaN        NaN      NaN\n25%      25.000000    NaN        NaN      NaN\n50%      31.000000    NaN        NaN      NaN\n75%      43.000000    NaN        NaN      NaN\nmax      73.000000    NaN        NaN      NaN",
      "text/html": "<div>\n<style scoped>\n    .dataframe tbody tr th:only-of-type {\n        vertical-align: middle;\n    }\n\n    .dataframe tbody tr th {\n        vertical-align: top;\n    }\n\n    .dataframe thead th {\n        text-align: right;\n    }\n</style>\n<table border=\"1\" class=\"dataframe\">\n  <thead>\n    <tr style=\"text-align: right;\">\n      <th></th>\n      <th>age</th>\n      <th>gender</th>\n      <th>occupation</th>\n      <th>zip_code</th>\n    </tr>\n  </thead>\n  <tbody>\n    <tr>\n      <th>count</th>\n      <td>943.000000</td>\n      <td>943</td>\n      <td>943</td>\n      <td>943</td>\n    </tr>\n    <tr>\n      <th>unique</th>\n      <td>NaN</td>\n      <td>2</td>\n      <td>21</td>\n      <td>795</td>\n    </tr>\n    <tr>\n      <th>top</th>\n      <td>NaN</td>\n      <td>M</td>\n      <td>student</td>\n      <td>55414</td>\n    </tr>\n    <tr>\n      <th>freq</th>\n      <td>NaN</td>\n      <td>670</td>\n      <td>196</td>\n      <td>9</td>\n    </tr>\n    <tr>\n      <th>mean</th>\n      <td>34.051962</td>\n      <td>NaN</td>\n      <td>NaN</td>\n      <td>NaN</td>\n    </tr>\n    <tr>\n      <th>std</th>\n      <td>12.192740</td>\n      <td>NaN</td>\n      <td>NaN</td>\n      <td>NaN</td>\n    </tr>\n    <tr>\n      <th>min</th>\n      <td>7.000000</td>\n      <td>NaN</td>\n      <td>NaN</td>\n      <td>NaN</td>\n    </tr>\n    <tr>\n      <th>25%</th>\n      <td>25.000000</td>\n      <td>NaN</td>\n      <td>NaN</td>\n      <td>NaN</td>\n    </tr>\n    <tr>\n      <th>50%</th>\n      <td>31.000000</td>\n      <td>NaN</td>\n      <td>NaN</td>\n      <td>NaN</td>\n    </tr>\n    <tr>\n      <th>75%</th>\n      <td>43.000000</td>\n      <td>NaN</td>\n      <td>NaN</td>\n      <td>NaN</td>\n    </tr>\n    <tr>\n      <th>max</th>\n      <td>73.000000</td>\n      <td>NaN</td>\n      <td>NaN</td>\n      <td>NaN</td>\n    </tr>\n  </tbody>\n</table>\n</div>"
     },
     "execution_count": 85,
     "metadata": {},
     "output_type": "execute_result"
    }
   ],
   "source": [
    "# Summarizes all numerical columns\n",
    "df.describe(include=\"all\")\n"
   ]
  },
  {
   "cell_type": "markdown",
   "metadata": {},
   "source": [
    "### Step 16. Summarize only the occupation column"
   ]
  },
  {
   "cell_type": "code",
   "execution_count": 86,
   "metadata": {
    "collapsed": false,
    "ExecuteTime": {
     "end_time": "2023-07-31T01:44:20.999796Z",
     "start_time": "2023-07-31T01:44:20.937242Z"
    }
   },
   "outputs": [
    {
     "data": {
      "text/plain": "count         943\nunique         21\ntop       student\nfreq          196\nName: occupation, dtype: object"
     },
     "execution_count": 86,
     "metadata": {},
     "output_type": "execute_result"
    }
   ],
   "source": [
    "# Summarizes occupation\n",
    "df.occupation.describe()"
   ]
  },
  {
   "cell_type": "markdown",
   "metadata": {},
   "source": [
    "### Step 17. What is the mean age of df?"
   ]
  },
  {
   "cell_type": "code",
   "execution_count": 87,
   "metadata": {
    "collapsed": false,
    "ExecuteTime": {
     "end_time": "2023-07-31T01:44:20.999974Z",
     "start_time": "2023-07-31T01:44:20.943713Z"
    }
   },
   "outputs": [
    {
     "data": {
      "text/plain": "34"
     },
     "execution_count": 87,
     "metadata": {},
     "output_type": "execute_result"
    }
   ],
   "source": [
    "# Display mean age\n",
    "round(df.age.mean())\n"
   ]
  },
  {
   "cell_type": "markdown",
   "metadata": {},
   "source": [
    "### Step 18. What is the age with least occurrence?"
   ]
  },
  {
   "cell_type": "code",
   "execution_count": 88,
   "metadata": {
    "collapsed": false,
    "ExecuteTime": {
     "end_time": "2023-07-31T01:44:21.000378Z",
     "start_time": "2023-07-31T01:44:20.954089Z"
    }
   },
   "outputs": [
    {
     "data": {
      "text/plain": "7     1\n66    1\n11    1\n10    1\n73    1\nName: age, dtype: int64"
     },
     "execution_count": 88,
     "metadata": {},
     "output_type": "execute_result"
    }
   ],
   "source": [
    "# Display least age occurrence\n",
    "df.age.value_counts().tail()"
   ]
  },
  {
   "cell_type": "code",
   "execution_count": 88,
   "outputs": [],
   "source": [],
   "metadata": {
    "collapsed": false,
    "ExecuteTime": {
     "end_time": "2023-07-31T01:44:21.000517Z",
     "start_time": "2023-07-31T01:44:20.960625Z"
    }
   }
  }
 ],
 "metadata": {
  "anaconda-cloud": {},
  "kernelspec": {
   "name": "python3",
   "language": "python",
   "display_name": "Python 3 (ipykernel)"
  },
  "language_info": {
   "codemirror_mode": {
    "name": "ipython",
    "version": 2
   },
   "file_extension": ".py",
   "mimetype": "text/x-python",
   "name": "python",
   "nbconvert_exporter": "python",
   "pygments_lexer": "ipython2",
   "version": "2.7.12"
  }
 },
 "nbformat": 4,
 "nbformat_minor": 0
}
