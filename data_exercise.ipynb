{
 "cells": [
  {
   "cell_type": "markdown",
   "source": [
    "Cesa Garcia Data Science Exercise"
   ],
   "metadata": {
    "collapsed": false
   }
  },
  {
   "cell_type": "code",
   "execution_count": 15,
   "outputs": [],
   "source": [
    "# Import libraries\n",
    "import numpy as np\n",
    "import pandas as pd\n",
    "from sklearn.model_selection import train_test_split\n",
    "from sklearn.impute import SimpleImputer\n",
    "from sklearn.preprocessing import OneHotEncoder\n",
    "from sklearn.linear_model import LogisticRegression\n",
    "from sklearn import metrics\n"
   ],
   "metadata": {
    "collapsed": false,
    "ExecuteTime": {
     "end_time": "2023-12-05T01:49:50.701058Z",
     "start_time": "2023-12-05T01:49:50.680152Z"
    }
   }
  },
  {
   "cell_type": "code",
   "execution_count": 2,
   "outputs": [
    {
     "data": {
      "text/plain": "   PassengerId  Survived  Pclass  \\\n0            1         0       3   \n1            2         1       1   \n2            3         1       3   \n3            4         1       1   \n4            5         0       3   \n\n                                                Name     Sex   Age  SibSp  \\\n0                            Braund, Mr. Owen Harris    male  22.0      1   \n1  Cumings, Mrs. John Bradley (Florence Briggs Th...  female  38.0      1   \n2                             Heikkinen, Miss. Laina  female  26.0      0   \n3       Futrelle, Mrs. Jacques Heath (Lily May Peel)  female  35.0      1   \n4                           Allen, Mr. William Henry    male  35.0      0   \n\n   Parch            Ticket     Fare Cabin Embarked  \n0      0         A/5 21171   7.2500   NaN        S  \n1      0          PC 17599  71.2833   C85        C  \n2      0  STON/O2. 3101282   7.9250   NaN        S  \n3      0            113803  53.1000  C123        S  \n4      0            373450   8.0500   NaN        S  ",
      "text/html": "<div>\n<style scoped>\n    .dataframe tbody tr th:only-of-type {\n        vertical-align: middle;\n    }\n\n    .dataframe tbody tr th {\n        vertical-align: top;\n    }\n\n    .dataframe thead th {\n        text-align: right;\n    }\n</style>\n<table border=\"1\" class=\"dataframe\">\n  <thead>\n    <tr style=\"text-align: right;\">\n      <th></th>\n      <th>PassengerId</th>\n      <th>Survived</th>\n      <th>Pclass</th>\n      <th>Name</th>\n      <th>Sex</th>\n      <th>Age</th>\n      <th>SibSp</th>\n      <th>Parch</th>\n      <th>Ticket</th>\n      <th>Fare</th>\n      <th>Cabin</th>\n      <th>Embarked</th>\n    </tr>\n  </thead>\n  <tbody>\n    <tr>\n      <th>0</th>\n      <td>1</td>\n      <td>0</td>\n      <td>3</td>\n      <td>Braund, Mr. Owen Harris</td>\n      <td>male</td>\n      <td>22.0</td>\n      <td>1</td>\n      <td>0</td>\n      <td>A/5 21171</td>\n      <td>7.2500</td>\n      <td>NaN</td>\n      <td>S</td>\n    </tr>\n    <tr>\n      <th>1</th>\n      <td>2</td>\n      <td>1</td>\n      <td>1</td>\n      <td>Cumings, Mrs. John Bradley (Florence Briggs Th...</td>\n      <td>female</td>\n      <td>38.0</td>\n      <td>1</td>\n      <td>0</td>\n      <td>PC 17599</td>\n      <td>71.2833</td>\n      <td>C85</td>\n      <td>C</td>\n    </tr>\n    <tr>\n      <th>2</th>\n      <td>3</td>\n      <td>1</td>\n      <td>3</td>\n      <td>Heikkinen, Miss. Laina</td>\n      <td>female</td>\n      <td>26.0</td>\n      <td>0</td>\n      <td>0</td>\n      <td>STON/O2. 3101282</td>\n      <td>7.9250</td>\n      <td>NaN</td>\n      <td>S</td>\n    </tr>\n    <tr>\n      <th>3</th>\n      <td>4</td>\n      <td>1</td>\n      <td>1</td>\n      <td>Futrelle, Mrs. Jacques Heath (Lily May Peel)</td>\n      <td>female</td>\n      <td>35.0</td>\n      <td>1</td>\n      <td>0</td>\n      <td>113803</td>\n      <td>53.1000</td>\n      <td>C123</td>\n      <td>S</td>\n    </tr>\n    <tr>\n      <th>4</th>\n      <td>5</td>\n      <td>0</td>\n      <td>3</td>\n      <td>Allen, Mr. William Henry</td>\n      <td>male</td>\n      <td>35.0</td>\n      <td>0</td>\n      <td>0</td>\n      <td>373450</td>\n      <td>8.0500</td>\n      <td>NaN</td>\n      <td>S</td>\n    </tr>\n  </tbody>\n</table>\n</div>"
     },
     "execution_count": 2,
     "metadata": {},
     "output_type": "execute_result"
    }
   ],
   "source": [
    "# Dataset read into DataFrame\n",
    "\n",
    "df = pd.read_csv('train.csv')\n",
    "df.head()\n"
   ],
   "metadata": {
    "collapsed": false,
    "ExecuteTime": {
     "end_time": "2023-12-05T01:25:54.141485Z",
     "start_time": "2023-12-05T01:25:54.098927Z"
    }
   }
  },
  {
   "cell_type": "code",
   "execution_count": 3,
   "outputs": [],
   "source": [
    "# Function for NaN and create deck column from cabin\n",
    "\n",
    "def getDeck(cabin):\n",
    "    if pd.notna(cabin):\n",
    "        return cabin[0]\n",
    "    else:\n",
    "        return np.nan\n",
    "\n",
    "df['Deck'] = df['Cabin'].apply(getDeck)\n"
   ],
   "metadata": {
    "collapsed": false,
    "ExecuteTime": {
     "end_time": "2023-12-05T01:26:03.538564Z",
     "start_time": "2023-12-05T01:26:03.519281Z"
    }
   }
  },
  {
   "cell_type": "code",
   "execution_count": 4,
   "outputs": [
    {
     "data": {
      "text/plain": "   PassengerId  Survived  Pclass  \\\n0            1         0       3   \n1            2         1       1   \n2            3         1       3   \n3            4         1       1   \n4            5         0       3   \n\n                                                Name     Sex   Age  SibSp  \\\n0                            Braund, Mr. Owen Harris    male  22.0      1   \n1  Cumings, Mrs. John Bradley (Florence Briggs Th...  female  38.0      1   \n2                             Heikkinen, Miss. Laina  female  26.0      0   \n3       Futrelle, Mrs. Jacques Heath (Lily May Peel)  female  35.0      1   \n4                           Allen, Mr. William Henry    male  35.0      0   \n\n   Parch            Ticket     Fare Cabin Embarked Deck  \n0      0         A/5 21171   7.2500   NaN        S  NaN  \n1      0          PC 17599  71.2833   C85        C    C  \n2      0  STON/O2. 3101282   7.9250   NaN        S  NaN  \n3      0            113803  53.1000  C123        S    C  \n4      0            373450   8.0500   NaN        S  NaN  ",
      "text/html": "<div>\n<style scoped>\n    .dataframe tbody tr th:only-of-type {\n        vertical-align: middle;\n    }\n\n    .dataframe tbody tr th {\n        vertical-align: top;\n    }\n\n    .dataframe thead th {\n        text-align: right;\n    }\n</style>\n<table border=\"1\" class=\"dataframe\">\n  <thead>\n    <tr style=\"text-align: right;\">\n      <th></th>\n      <th>PassengerId</th>\n      <th>Survived</th>\n      <th>Pclass</th>\n      <th>Name</th>\n      <th>Sex</th>\n      <th>Age</th>\n      <th>SibSp</th>\n      <th>Parch</th>\n      <th>Ticket</th>\n      <th>Fare</th>\n      <th>Cabin</th>\n      <th>Embarked</th>\n      <th>Deck</th>\n    </tr>\n  </thead>\n  <tbody>\n    <tr>\n      <th>0</th>\n      <td>1</td>\n      <td>0</td>\n      <td>3</td>\n      <td>Braund, Mr. Owen Harris</td>\n      <td>male</td>\n      <td>22.0</td>\n      <td>1</td>\n      <td>0</td>\n      <td>A/5 21171</td>\n      <td>7.2500</td>\n      <td>NaN</td>\n      <td>S</td>\n      <td>NaN</td>\n    </tr>\n    <tr>\n      <th>1</th>\n      <td>2</td>\n      <td>1</td>\n      <td>1</td>\n      <td>Cumings, Mrs. John Bradley (Florence Briggs Th...</td>\n      <td>female</td>\n      <td>38.0</td>\n      <td>1</td>\n      <td>0</td>\n      <td>PC 17599</td>\n      <td>71.2833</td>\n      <td>C85</td>\n      <td>C</td>\n      <td>C</td>\n    </tr>\n    <tr>\n      <th>2</th>\n      <td>3</td>\n      <td>1</td>\n      <td>3</td>\n      <td>Heikkinen, Miss. Laina</td>\n      <td>female</td>\n      <td>26.0</td>\n      <td>0</td>\n      <td>0</td>\n      <td>STON/O2. 3101282</td>\n      <td>7.9250</td>\n      <td>NaN</td>\n      <td>S</td>\n      <td>NaN</td>\n    </tr>\n    <tr>\n      <th>3</th>\n      <td>4</td>\n      <td>1</td>\n      <td>1</td>\n      <td>Futrelle, Mrs. Jacques Heath (Lily May Peel)</td>\n      <td>female</td>\n      <td>35.0</td>\n      <td>1</td>\n      <td>0</td>\n      <td>113803</td>\n      <td>53.1000</td>\n      <td>C123</td>\n      <td>S</td>\n      <td>C</td>\n    </tr>\n    <tr>\n      <th>4</th>\n      <td>5</td>\n      <td>0</td>\n      <td>3</td>\n      <td>Allen, Mr. William Henry</td>\n      <td>male</td>\n      <td>35.0</td>\n      <td>0</td>\n      <td>0</td>\n      <td>373450</td>\n      <td>8.0500</td>\n      <td>NaN</td>\n      <td>S</td>\n      <td>NaN</td>\n    </tr>\n  </tbody>\n</table>\n</div>"
     },
     "execution_count": 4,
     "metadata": {},
     "output_type": "execute_result"
    }
   ],
   "source": [
    "df.head()"
   ],
   "metadata": {
    "collapsed": false,
    "ExecuteTime": {
     "end_time": "2023-12-05T01:26:11.713005Z",
     "start_time": "2023-12-05T01:26:11.701606Z"
    }
   }
  },
  {
   "cell_type": "code",
   "execution_count": 5,
   "outputs": [],
   "source": [
    "# Set up data\n",
    "X = df.drop(['Survived'], axis=1)\n",
    "y = df['Survived']\n",
    "\n",
    "X_train, X_test, y_train, y_test = train_test_split(X, y, test_size=0.2, random_state=1)\n",
    "\n",
    "# X_train = X_train.copy()\n",
    "# X_test = X_test.copy()\n",
    "# y_train = y_train.copy()\n",
    "# y_test = y_test.compy()\n",
    "\n"
   ],
   "metadata": {
    "collapsed": false,
    "ExecuteTime": {
     "end_time": "2023-12-05T01:26:15.893410Z",
     "start_time": "2023-12-05T01:26:15.883598Z"
    }
   }
  },
  {
   "cell_type": "code",
   "execution_count": 6,
   "outputs": [
    {
     "data": {
      "text/plain": "     PassengerId  Pclass                            Name     Sex   Age  SibSp  \\\n301          302       3              McCoy, Mr. Bernard    male   NaN      2   \n309          310       1  Francatelli, Miss. Laura Mabel  female  30.0      0   \n516          517       2    Lemore, Mrs. (Amelia Milley)  female  34.0      0   \n120          121       2     Hickman, Mr. Stanley George    male  21.0      2   \n570          571       2              Harris, Mr. George    male  62.0      0   \n730          731       1   Allen, Miss. Elisabeth Walton  female  29.0      0   \n228          229       2       Fahlstrom, Mr. Arne Jonas    male  18.0      0   \n563          564       3               Simmons, Mr. John    male   NaN      0   \n311          312       1      Ryerson, Miss. Emily Borie  female  18.0      2   \n613          614       3                Horgan, Mr. John    male   NaN      0   \n\n     Parch           Ticket      Fare            Cabin Embarked Deck  \\\n301      0           367226   23.2500              NaN        Q  NaN   \n309      0         PC 17485   56.9292              E36        C    E   \n516      0       C.A. 34260   10.5000              F33        S    F   \n120      0     S.O.C. 14879   73.5000              NaN        S  NaN   \n570      0      S.W./PP 752   10.5000              NaN        S  NaN   \n730      0            24160  211.3375               B5        S    B   \n228      0           236171   13.0000              NaN        S  NaN   \n563      0  SOTON/OQ 392082    8.0500              NaN        S  NaN   \n311      2         PC 17608  262.3750  B57 B59 B63 B66        C    B   \n613      0           370377    7.7500              NaN        Q  NaN   \n\n        impAge  \n301  30.166232  \n309  30.000000  \n516  34.000000  \n120  21.000000  \n570  62.000000  \n730  29.000000  \n228  18.000000  \n563  30.166232  \n311  18.000000  \n613  30.166232  ",
      "text/html": "<div>\n<style scoped>\n    .dataframe tbody tr th:only-of-type {\n        vertical-align: middle;\n    }\n\n    .dataframe tbody tr th {\n        vertical-align: top;\n    }\n\n    .dataframe thead th {\n        text-align: right;\n    }\n</style>\n<table border=\"1\" class=\"dataframe\">\n  <thead>\n    <tr style=\"text-align: right;\">\n      <th></th>\n      <th>PassengerId</th>\n      <th>Pclass</th>\n      <th>Name</th>\n      <th>Sex</th>\n      <th>Age</th>\n      <th>SibSp</th>\n      <th>Parch</th>\n      <th>Ticket</th>\n      <th>Fare</th>\n      <th>Cabin</th>\n      <th>Embarked</th>\n      <th>Deck</th>\n      <th>impAge</th>\n    </tr>\n  </thead>\n  <tbody>\n    <tr>\n      <th>301</th>\n      <td>302</td>\n      <td>3</td>\n      <td>McCoy, Mr. Bernard</td>\n      <td>male</td>\n      <td>NaN</td>\n      <td>2</td>\n      <td>0</td>\n      <td>367226</td>\n      <td>23.2500</td>\n      <td>NaN</td>\n      <td>Q</td>\n      <td>NaN</td>\n      <td>30.166232</td>\n    </tr>\n    <tr>\n      <th>309</th>\n      <td>310</td>\n      <td>1</td>\n      <td>Francatelli, Miss. Laura Mabel</td>\n      <td>female</td>\n      <td>30.0</td>\n      <td>0</td>\n      <td>0</td>\n      <td>PC 17485</td>\n      <td>56.9292</td>\n      <td>E36</td>\n      <td>C</td>\n      <td>E</td>\n      <td>30.000000</td>\n    </tr>\n    <tr>\n      <th>516</th>\n      <td>517</td>\n      <td>2</td>\n      <td>Lemore, Mrs. (Amelia Milley)</td>\n      <td>female</td>\n      <td>34.0</td>\n      <td>0</td>\n      <td>0</td>\n      <td>C.A. 34260</td>\n      <td>10.5000</td>\n      <td>F33</td>\n      <td>S</td>\n      <td>F</td>\n      <td>34.000000</td>\n    </tr>\n    <tr>\n      <th>120</th>\n      <td>121</td>\n      <td>2</td>\n      <td>Hickman, Mr. Stanley George</td>\n      <td>male</td>\n      <td>21.0</td>\n      <td>2</td>\n      <td>0</td>\n      <td>S.O.C. 14879</td>\n      <td>73.5000</td>\n      <td>NaN</td>\n      <td>S</td>\n      <td>NaN</td>\n      <td>21.000000</td>\n    </tr>\n    <tr>\n      <th>570</th>\n      <td>571</td>\n      <td>2</td>\n      <td>Harris, Mr. George</td>\n      <td>male</td>\n      <td>62.0</td>\n      <td>0</td>\n      <td>0</td>\n      <td>S.W./PP 752</td>\n      <td>10.5000</td>\n      <td>NaN</td>\n      <td>S</td>\n      <td>NaN</td>\n      <td>62.000000</td>\n    </tr>\n    <tr>\n      <th>730</th>\n      <td>731</td>\n      <td>1</td>\n      <td>Allen, Miss. Elisabeth Walton</td>\n      <td>female</td>\n      <td>29.0</td>\n      <td>0</td>\n      <td>0</td>\n      <td>24160</td>\n      <td>211.3375</td>\n      <td>B5</td>\n      <td>S</td>\n      <td>B</td>\n      <td>29.000000</td>\n    </tr>\n    <tr>\n      <th>228</th>\n      <td>229</td>\n      <td>2</td>\n      <td>Fahlstrom, Mr. Arne Jonas</td>\n      <td>male</td>\n      <td>18.0</td>\n      <td>0</td>\n      <td>0</td>\n      <td>236171</td>\n      <td>13.0000</td>\n      <td>NaN</td>\n      <td>S</td>\n      <td>NaN</td>\n      <td>18.000000</td>\n    </tr>\n    <tr>\n      <th>563</th>\n      <td>564</td>\n      <td>3</td>\n      <td>Simmons, Mr. John</td>\n      <td>male</td>\n      <td>NaN</td>\n      <td>0</td>\n      <td>0</td>\n      <td>SOTON/OQ 392082</td>\n      <td>8.0500</td>\n      <td>NaN</td>\n      <td>S</td>\n      <td>NaN</td>\n      <td>30.166232</td>\n    </tr>\n    <tr>\n      <th>311</th>\n      <td>312</td>\n      <td>1</td>\n      <td>Ryerson, Miss. Emily Borie</td>\n      <td>female</td>\n      <td>18.0</td>\n      <td>2</td>\n      <td>2</td>\n      <td>PC 17608</td>\n      <td>262.3750</td>\n      <td>B57 B59 B63 B66</td>\n      <td>C</td>\n      <td>B</td>\n      <td>18.000000</td>\n    </tr>\n    <tr>\n      <th>613</th>\n      <td>614</td>\n      <td>3</td>\n      <td>Horgan, Mr. John</td>\n      <td>male</td>\n      <td>NaN</td>\n      <td>0</td>\n      <td>0</td>\n      <td>370377</td>\n      <td>7.7500</td>\n      <td>NaN</td>\n      <td>Q</td>\n      <td>NaN</td>\n      <td>30.166232</td>\n    </tr>\n  </tbody>\n</table>\n</div>"
     },
     "execution_count": 6,
     "metadata": {},
     "output_type": "execute_result"
    }
   ],
   "source": [
    "# Impute Age with mean\n",
    "feat = ['Age']\n",
    "impage = SimpleImputer(missing_values=np.nan, strategy='mean', fill_value=None)\n",
    "imp = pd.DataFrame(impage.fit_transform(X_train[feat]), columns=['impAge'], index=X_train.index)\n",
    "X_train = pd.concat([X_train, imp], axis=1)\n",
    "X_train.head(10)\n"
   ],
   "metadata": {
    "collapsed": false,
    "ExecuteTime": {
     "end_time": "2023-12-05T01:26:19.510331Z",
     "start_time": "2023-12-05T01:26:19.481332Z"
    }
   }
  },
  {
   "cell_type": "code",
   "execution_count": 7,
   "outputs": [
    {
     "data": {
      "text/plain": "     PassengerId  Pclass                            Name     Sex   Age  SibSp  \\\n301          302       3              McCoy, Mr. Bernard    male   NaN      2   \n309          310       1  Francatelli, Miss. Laura Mabel  female  30.0      0   \n516          517       2    Lemore, Mrs. (Amelia Milley)  female  34.0      0   \n120          121       2     Hickman, Mr. Stanley George    male  21.0      2   \n570          571       2              Harris, Mr. George    male  62.0      0   \n\n     Parch        Ticket     Fare Cabin Embarked Deck     impAge impPclass  \\\n301      0        367226  23.2500   NaN        Q  NaN  30.166232         3   \n309      0      PC 17485  56.9292   E36        C    E  30.000000         1   \n516      0    C.A. 34260  10.5000   F33        S    F  34.000000         2   \n120      0  S.O.C. 14879  73.5000   NaN        S  NaN  21.000000         2   \n570      0   S.W./PP 752  10.5000   NaN        S  NaN  62.000000         2   \n\n     impSex impDeck  \n301    male       X  \n309  female       E  \n516  female       F  \n120    male       X  \n570    male       X  ",
      "text/html": "<div>\n<style scoped>\n    .dataframe tbody tr th:only-of-type {\n        vertical-align: middle;\n    }\n\n    .dataframe tbody tr th {\n        vertical-align: top;\n    }\n\n    .dataframe thead th {\n        text-align: right;\n    }\n</style>\n<table border=\"1\" class=\"dataframe\">\n  <thead>\n    <tr style=\"text-align: right;\">\n      <th></th>\n      <th>PassengerId</th>\n      <th>Pclass</th>\n      <th>Name</th>\n      <th>Sex</th>\n      <th>Age</th>\n      <th>SibSp</th>\n      <th>Parch</th>\n      <th>Ticket</th>\n      <th>Fare</th>\n      <th>Cabin</th>\n      <th>Embarked</th>\n      <th>Deck</th>\n      <th>impAge</th>\n      <th>impPclass</th>\n      <th>impSex</th>\n      <th>impDeck</th>\n    </tr>\n  </thead>\n  <tbody>\n    <tr>\n      <th>301</th>\n      <td>302</td>\n      <td>3</td>\n      <td>McCoy, Mr. Bernard</td>\n      <td>male</td>\n      <td>NaN</td>\n      <td>2</td>\n      <td>0</td>\n      <td>367226</td>\n      <td>23.2500</td>\n      <td>NaN</td>\n      <td>Q</td>\n      <td>NaN</td>\n      <td>30.166232</td>\n      <td>3</td>\n      <td>male</td>\n      <td>X</td>\n    </tr>\n    <tr>\n      <th>309</th>\n      <td>310</td>\n      <td>1</td>\n      <td>Francatelli, Miss. Laura Mabel</td>\n      <td>female</td>\n      <td>30.0</td>\n      <td>0</td>\n      <td>0</td>\n      <td>PC 17485</td>\n      <td>56.9292</td>\n      <td>E36</td>\n      <td>C</td>\n      <td>E</td>\n      <td>30.000000</td>\n      <td>1</td>\n      <td>female</td>\n      <td>E</td>\n    </tr>\n    <tr>\n      <th>516</th>\n      <td>517</td>\n      <td>2</td>\n      <td>Lemore, Mrs. (Amelia Milley)</td>\n      <td>female</td>\n      <td>34.0</td>\n      <td>0</td>\n      <td>0</td>\n      <td>C.A. 34260</td>\n      <td>10.5000</td>\n      <td>F33</td>\n      <td>S</td>\n      <td>F</td>\n      <td>34.000000</td>\n      <td>2</td>\n      <td>female</td>\n      <td>F</td>\n    </tr>\n    <tr>\n      <th>120</th>\n      <td>121</td>\n      <td>2</td>\n      <td>Hickman, Mr. Stanley George</td>\n      <td>male</td>\n      <td>21.0</td>\n      <td>2</td>\n      <td>0</td>\n      <td>S.O.C. 14879</td>\n      <td>73.5000</td>\n      <td>NaN</td>\n      <td>S</td>\n      <td>NaN</td>\n      <td>21.000000</td>\n      <td>2</td>\n      <td>male</td>\n      <td>X</td>\n    </tr>\n    <tr>\n      <th>570</th>\n      <td>571</td>\n      <td>2</td>\n      <td>Harris, Mr. George</td>\n      <td>male</td>\n      <td>62.0</td>\n      <td>0</td>\n      <td>0</td>\n      <td>S.W./PP 752</td>\n      <td>10.5000</td>\n      <td>NaN</td>\n      <td>S</td>\n      <td>NaN</td>\n      <td>62.000000</td>\n      <td>2</td>\n      <td>male</td>\n      <td>X</td>\n    </tr>\n  </tbody>\n</table>\n</div>"
     },
     "execution_count": 7,
     "metadata": {},
     "output_type": "execute_result"
    }
   ],
   "source": [
    "# Impute features with X for NaN\n",
    "feats = ['Pclass', 'Sex', 'Deck']\n",
    "impcat = SimpleImputer(missing_values=np.nan, strategy='constant', fill_value='X')\n",
    "imps = pd.DataFrame(impcat.fit_transform(X_train[feats]), columns=['impPclass', 'impSex', 'impDeck'],index=X_train.index)\n",
    "X_train = pd.concat([X_train, imps], axis=1)\n",
    "X_train.head()\n"
   ],
   "metadata": {
    "collapsed": false,
    "ExecuteTime": {
     "end_time": "2023-12-05T01:26:41.268727Z",
     "start_time": "2023-12-05T01:26:41.243002Z"
    }
   }
  },
  {
   "cell_type": "code",
   "execution_count": 8,
   "outputs": [
    {
     "data": {
      "text/plain": "     PassengerId  Pclass                            Name     Sex   Age  SibSp  \\\n301          302       3              McCoy, Mr. Bernard    male   NaN      2   \n309          310       1  Francatelli, Miss. Laura Mabel  female  30.0      0   \n516          517       2    Lemore, Mrs. (Amelia Milley)  female  34.0      0   \n120          121       2     Hickman, Mr. Stanley George    male  21.0      2   \n570          571       2              Harris, Mr. George    male  62.0      0   \n\n     Parch        Ticket     Fare Cabin  ... impSex_male impDeck_A  impDeck_B  \\\n301      0        367226  23.2500   NaN  ...           1         0          0   \n309      0      PC 17485  56.9292   E36  ...           0         0          0   \n516      0    C.A. 34260  10.5000   F33  ...           0         0          0   \n120      0  S.O.C. 14879  73.5000   NaN  ...           1         0          0   \n570      0   S.W./PP 752  10.5000   NaN  ...           1         0          0   \n\n    impDeck_C impDeck_D impDeck_E  impDeck_F  impDeck_G  impDeck_T  impDeck_X  \n301         0         0         0          0          0          0          1  \n309         0         0         1          0          0          0          0  \n516         0         0         0          1          0          0          0  \n120         0         0         0          0          0          0          1  \n570         0         0         0          0          0          0          1  \n\n[5 rows x 30 columns]",
      "text/html": "<div>\n<style scoped>\n    .dataframe tbody tr th:only-of-type {\n        vertical-align: middle;\n    }\n\n    .dataframe tbody tr th {\n        vertical-align: top;\n    }\n\n    .dataframe thead th {\n        text-align: right;\n    }\n</style>\n<table border=\"1\" class=\"dataframe\">\n  <thead>\n    <tr style=\"text-align: right;\">\n      <th></th>\n      <th>PassengerId</th>\n      <th>Pclass</th>\n      <th>Name</th>\n      <th>Sex</th>\n      <th>Age</th>\n      <th>SibSp</th>\n      <th>Parch</th>\n      <th>Ticket</th>\n      <th>Fare</th>\n      <th>Cabin</th>\n      <th>...</th>\n      <th>impSex_male</th>\n      <th>impDeck_A</th>\n      <th>impDeck_B</th>\n      <th>impDeck_C</th>\n      <th>impDeck_D</th>\n      <th>impDeck_E</th>\n      <th>impDeck_F</th>\n      <th>impDeck_G</th>\n      <th>impDeck_T</th>\n      <th>impDeck_X</th>\n    </tr>\n  </thead>\n  <tbody>\n    <tr>\n      <th>301</th>\n      <td>302</td>\n      <td>3</td>\n      <td>McCoy, Mr. Bernard</td>\n      <td>male</td>\n      <td>NaN</td>\n      <td>2</td>\n      <td>0</td>\n      <td>367226</td>\n      <td>23.2500</td>\n      <td>NaN</td>\n      <td>...</td>\n      <td>1</td>\n      <td>0</td>\n      <td>0</td>\n      <td>0</td>\n      <td>0</td>\n      <td>0</td>\n      <td>0</td>\n      <td>0</td>\n      <td>0</td>\n      <td>1</td>\n    </tr>\n    <tr>\n      <th>309</th>\n      <td>310</td>\n      <td>1</td>\n      <td>Francatelli, Miss. Laura Mabel</td>\n      <td>female</td>\n      <td>30.0</td>\n      <td>0</td>\n      <td>0</td>\n      <td>PC 17485</td>\n      <td>56.9292</td>\n      <td>E36</td>\n      <td>...</td>\n      <td>0</td>\n      <td>0</td>\n      <td>0</td>\n      <td>0</td>\n      <td>0</td>\n      <td>1</td>\n      <td>0</td>\n      <td>0</td>\n      <td>0</td>\n      <td>0</td>\n    </tr>\n    <tr>\n      <th>516</th>\n      <td>517</td>\n      <td>2</td>\n      <td>Lemore, Mrs. (Amelia Milley)</td>\n      <td>female</td>\n      <td>34.0</td>\n      <td>0</td>\n      <td>0</td>\n      <td>C.A. 34260</td>\n      <td>10.5000</td>\n      <td>F33</td>\n      <td>...</td>\n      <td>0</td>\n      <td>0</td>\n      <td>0</td>\n      <td>0</td>\n      <td>0</td>\n      <td>0</td>\n      <td>1</td>\n      <td>0</td>\n      <td>0</td>\n      <td>0</td>\n    </tr>\n    <tr>\n      <th>120</th>\n      <td>121</td>\n      <td>2</td>\n      <td>Hickman, Mr. Stanley George</td>\n      <td>male</td>\n      <td>21.0</td>\n      <td>2</td>\n      <td>0</td>\n      <td>S.O.C. 14879</td>\n      <td>73.5000</td>\n      <td>NaN</td>\n      <td>...</td>\n      <td>1</td>\n      <td>0</td>\n      <td>0</td>\n      <td>0</td>\n      <td>0</td>\n      <td>0</td>\n      <td>0</td>\n      <td>0</td>\n      <td>0</td>\n      <td>1</td>\n    </tr>\n    <tr>\n      <th>570</th>\n      <td>571</td>\n      <td>2</td>\n      <td>Harris, Mr. George</td>\n      <td>male</td>\n      <td>62.0</td>\n      <td>0</td>\n      <td>0</td>\n      <td>S.W./PP 752</td>\n      <td>10.5000</td>\n      <td>NaN</td>\n      <td>...</td>\n      <td>1</td>\n      <td>0</td>\n      <td>0</td>\n      <td>0</td>\n      <td>0</td>\n      <td>0</td>\n      <td>0</td>\n      <td>0</td>\n      <td>0</td>\n      <td>1</td>\n    </tr>\n  </tbody>\n</table>\n<p>5 rows × 30 columns</p>\n</div>"
     },
     "execution_count": 8,
     "metadata": {},
     "output_type": "execute_result"
    }
   ],
   "source": [
    "# Encode imputed features OneHotEncoder\n",
    "featsimp = ['impPclass', 'impSex', 'impDeck']\n",
    "ohe = OneHotEncoder(sparse_output=False, dtype=int, handle_unknown='ignore')\n",
    "imps_ohe = pd.DataFrame(ohe.fit_transform(X_train[featsimp]), columns=ohe.get_feature_names_out(), index=X_train.index)\n",
    "X_train = pd.concat([X_train, imps_ohe], axis=1)\n",
    "X_train.head()\n"
   ],
   "metadata": {
    "collapsed": false,
    "ExecuteTime": {
     "end_time": "2023-12-05T01:26:54.899351Z",
     "start_time": "2023-12-05T01:26:54.871245Z"
    }
   }
  },
  {
   "cell_type": "code",
   "execution_count": 9,
   "outputs": [
    {
     "data": {
      "text/plain": "        impAge  impPclass_1  impPclass_2  impPclass_3  impSex_female  \\\n301  30.166232            0            0            1              0   \n309  30.000000            1            0            0              1   \n516  34.000000            0            1            0              1   \n120  21.000000            0            1            0              0   \n570  62.000000            0            1            0              0   \n\n     impSex_male  impDeck_A  impDeck_B  impDeck_C  impDeck_D  impDeck_E  \\\n301            1          0          0          0          0          0   \n309            0          0          0          0          0          1   \n516            0          0          0          0          0          0   \n120            1          0          0          0          0          0   \n570            1          0          0          0          0          0   \n\n     impDeck_F  impDeck_G  impDeck_T  impDeck_X  \n301          0          0          0          1  \n309          0          0          0          0  \n516          1          0          0          0  \n120          0          0          0          1  \n570          0          0          0          1  ",
      "text/html": "<div>\n<style scoped>\n    .dataframe tbody tr th:only-of-type {\n        vertical-align: middle;\n    }\n\n    .dataframe tbody tr th {\n        vertical-align: top;\n    }\n\n    .dataframe thead th {\n        text-align: right;\n    }\n</style>\n<table border=\"1\" class=\"dataframe\">\n  <thead>\n    <tr style=\"text-align: right;\">\n      <th></th>\n      <th>impAge</th>\n      <th>impPclass_1</th>\n      <th>impPclass_2</th>\n      <th>impPclass_3</th>\n      <th>impSex_female</th>\n      <th>impSex_male</th>\n      <th>impDeck_A</th>\n      <th>impDeck_B</th>\n      <th>impDeck_C</th>\n      <th>impDeck_D</th>\n      <th>impDeck_E</th>\n      <th>impDeck_F</th>\n      <th>impDeck_G</th>\n      <th>impDeck_T</th>\n      <th>impDeck_X</th>\n    </tr>\n  </thead>\n  <tbody>\n    <tr>\n      <th>301</th>\n      <td>30.166232</td>\n      <td>0</td>\n      <td>0</td>\n      <td>1</td>\n      <td>0</td>\n      <td>1</td>\n      <td>0</td>\n      <td>0</td>\n      <td>0</td>\n      <td>0</td>\n      <td>0</td>\n      <td>0</td>\n      <td>0</td>\n      <td>0</td>\n      <td>1</td>\n    </tr>\n    <tr>\n      <th>309</th>\n      <td>30.000000</td>\n      <td>1</td>\n      <td>0</td>\n      <td>0</td>\n      <td>1</td>\n      <td>0</td>\n      <td>0</td>\n      <td>0</td>\n      <td>0</td>\n      <td>0</td>\n      <td>1</td>\n      <td>0</td>\n      <td>0</td>\n      <td>0</td>\n      <td>0</td>\n    </tr>\n    <tr>\n      <th>516</th>\n      <td>34.000000</td>\n      <td>0</td>\n      <td>1</td>\n      <td>0</td>\n      <td>1</td>\n      <td>0</td>\n      <td>0</td>\n      <td>0</td>\n      <td>0</td>\n      <td>0</td>\n      <td>0</td>\n      <td>1</td>\n      <td>0</td>\n      <td>0</td>\n      <td>0</td>\n    </tr>\n    <tr>\n      <th>120</th>\n      <td>21.000000</td>\n      <td>0</td>\n      <td>1</td>\n      <td>0</td>\n      <td>0</td>\n      <td>1</td>\n      <td>0</td>\n      <td>0</td>\n      <td>0</td>\n      <td>0</td>\n      <td>0</td>\n      <td>0</td>\n      <td>0</td>\n      <td>0</td>\n      <td>1</td>\n    </tr>\n    <tr>\n      <th>570</th>\n      <td>62.000000</td>\n      <td>0</td>\n      <td>1</td>\n      <td>0</td>\n      <td>0</td>\n      <td>1</td>\n      <td>0</td>\n      <td>0</td>\n      <td>0</td>\n      <td>0</td>\n      <td>0</td>\n      <td>0</td>\n      <td>0</td>\n      <td>0</td>\n      <td>1</td>\n    </tr>\n  </tbody>\n</table>\n</div>"
     },
     "execution_count": 9,
     "metadata": {},
     "output_type": "execute_result"
    }
   ],
   "source": [
    "# Drop all features and keep only numeric and ohe\n",
    "X_train.drop(['PassengerId', 'Pclass', 'Name', 'Sex', 'Age', 'SibSp', 'Parch', 'Ticket', 'Fare', 'Cabin', 'Embarked', 'Deck', 'impPclass', 'impSex', 'impDeck'], axis=1, inplace=True)\n",
    "X_train.head()"
   ],
   "metadata": {
    "collapsed": false,
    "ExecuteTime": {
     "end_time": "2023-12-05T01:27:04.088517Z",
     "start_time": "2023-12-05T01:27:04.073439Z"
    }
   }
  },
  {
   "cell_type": "code",
   "execution_count": 10,
   "outputs": [
    {
     "data": {
      "text/plain": "LogisticRegression(solver='liblinear')",
      "text/html": "<style>#sk-container-id-1 {color: black;}#sk-container-id-1 pre{padding: 0;}#sk-container-id-1 div.sk-toggleable {background-color: white;}#sk-container-id-1 label.sk-toggleable__label {cursor: pointer;display: block;width: 100%;margin-bottom: 0;padding: 0.3em;box-sizing: border-box;text-align: center;}#sk-container-id-1 label.sk-toggleable__label-arrow:before {content: \"▸\";float: left;margin-right: 0.25em;color: #696969;}#sk-container-id-1 label.sk-toggleable__label-arrow:hover:before {color: black;}#sk-container-id-1 div.sk-estimator:hover label.sk-toggleable__label-arrow:before {color: black;}#sk-container-id-1 div.sk-toggleable__content {max-height: 0;max-width: 0;overflow: hidden;text-align: left;background-color: #f0f8ff;}#sk-container-id-1 div.sk-toggleable__content pre {margin: 0.2em;color: black;border-radius: 0.25em;background-color: #f0f8ff;}#sk-container-id-1 input.sk-toggleable__control:checked~div.sk-toggleable__content {max-height: 200px;max-width: 100%;overflow: auto;}#sk-container-id-1 input.sk-toggleable__control:checked~label.sk-toggleable__label-arrow:before {content: \"▾\";}#sk-container-id-1 div.sk-estimator input.sk-toggleable__control:checked~label.sk-toggleable__label {background-color: #d4ebff;}#sk-container-id-1 div.sk-label input.sk-toggleable__control:checked~label.sk-toggleable__label {background-color: #d4ebff;}#sk-container-id-1 input.sk-hidden--visually {border: 0;clip: rect(1px 1px 1px 1px);clip: rect(1px, 1px, 1px, 1px);height: 1px;margin: -1px;overflow: hidden;padding: 0;position: absolute;width: 1px;}#sk-container-id-1 div.sk-estimator {font-family: monospace;background-color: #f0f8ff;border: 1px dotted black;border-radius: 0.25em;box-sizing: border-box;margin-bottom: 0.5em;}#sk-container-id-1 div.sk-estimator:hover {background-color: #d4ebff;}#sk-container-id-1 div.sk-parallel-item::after {content: \"\";width: 100%;border-bottom: 1px solid gray;flex-grow: 1;}#sk-container-id-1 div.sk-label:hover label.sk-toggleable__label {background-color: #d4ebff;}#sk-container-id-1 div.sk-serial::before {content: \"\";position: absolute;border-left: 1px solid gray;box-sizing: border-box;top: 0;bottom: 0;left: 50%;z-index: 0;}#sk-container-id-1 div.sk-serial {display: flex;flex-direction: column;align-items: center;background-color: white;padding-right: 0.2em;padding-left: 0.2em;position: relative;}#sk-container-id-1 div.sk-item {position: relative;z-index: 1;}#sk-container-id-1 div.sk-parallel {display: flex;align-items: stretch;justify-content: center;background-color: white;position: relative;}#sk-container-id-1 div.sk-item::before, #sk-container-id-1 div.sk-parallel-item::before {content: \"\";position: absolute;border-left: 1px solid gray;box-sizing: border-box;top: 0;bottom: 0;left: 50%;z-index: -1;}#sk-container-id-1 div.sk-parallel-item {display: flex;flex-direction: column;z-index: 1;position: relative;background-color: white;}#sk-container-id-1 div.sk-parallel-item:first-child::after {align-self: flex-end;width: 50%;}#sk-container-id-1 div.sk-parallel-item:last-child::after {align-self: flex-start;width: 50%;}#sk-container-id-1 div.sk-parallel-item:only-child::after {width: 0;}#sk-container-id-1 div.sk-dashed-wrapped {border: 1px dashed gray;margin: 0 0.4em 0.5em 0.4em;box-sizing: border-box;padding-bottom: 0.4em;background-color: white;}#sk-container-id-1 div.sk-label label {font-family: monospace;font-weight: bold;display: inline-block;line-height: 1.2em;}#sk-container-id-1 div.sk-label-container {text-align: center;}#sk-container-id-1 div.sk-container {/* jupyter's `normalize.less` sets `[hidden] { display: none; }` but bootstrap.min.css set `[hidden] { display: none !important; }` so we also need the `!important` here to be able to override the default hidden behavior on the sphinx rendered scikit-learn.org. See: https://github.com/scikit-learn/scikit-learn/issues/21755 */display: inline-block !important;position: relative;}#sk-container-id-1 div.sk-text-repr-fallback {display: none;}</style><div id=\"sk-container-id-1\" class=\"sk-top-container\"><div class=\"sk-text-repr-fallback\"><pre>LogisticRegression(solver=&#x27;liblinear&#x27;)</pre><b>In a Jupyter environment, please rerun this cell to show the HTML representation or trust the notebook. <br />On GitHub, the HTML representation is unable to render, please try loading this page with nbviewer.org.</b></div><div class=\"sk-container\" hidden><div class=\"sk-item\"><div class=\"sk-estimator sk-toggleable\"><input class=\"sk-toggleable__control sk-hidden--visually\" id=\"sk-estimator-id-1\" type=\"checkbox\" checked><label for=\"sk-estimator-id-1\" class=\"sk-toggleable__label sk-toggleable__label-arrow\">LogisticRegression</label><div class=\"sk-toggleable__content\"><pre>LogisticRegression(solver=&#x27;liblinear&#x27;)</pre></div></div></div></div></div>"
     },
     "execution_count": 10,
     "metadata": {},
     "output_type": "execute_result"
    }
   ],
   "source": [
    "# Use LogisticRegression\n",
    "lr = LogisticRegression(solver='liblinear')\n",
    "lr.fit(X_train, y_train)\n"
   ],
   "metadata": {
    "collapsed": false,
    "ExecuteTime": {
     "end_time": "2023-12-05T01:27:15.755972Z",
     "start_time": "2023-12-05T01:27:15.737135Z"
    }
   }
  },
  {
   "cell_type": "code",
   "execution_count": 11,
   "outputs": [
    {
     "data": {
      "text/plain": "     PassengerId  Pclass                                               Name  \\\n862          863       1  Swift, Mrs. Frederick Joel (Margaret Welles Ba...   \n223          224       3                               Nenkoff, Mr. Christo   \n84            85       2                                Ilett, Miss. Bertha   \n680          681       3                                Peters, Miss. Katie   \n535          536       2                             Hart, Miss. Eva Miriam   \n623          624       3                        Hansen, Mr. Henry Damsgaard   \n148          149       2           Navratil, Mr. Michel (\"Louis M Hoffman\")   \n3              4       1       Futrelle, Mrs. Jacques Heath (Lily May Peel)   \n34            35       1                            Meyer, Mr. Edgar Joseph   \n241          242       3                     Murphy, Miss. Katherine \"Kate\"   \n\n        Sex   Age  SibSp  Parch        Ticket     Fare Cabin Embarked Deck  \\\n862  female  48.0      0      0         17466  25.9292   D17        S    D   \n223    male   NaN      0      0        349234   7.8958   NaN        S  NaN   \n84   female  17.0      0      0    SO/C 14885  10.5000   NaN        S  NaN   \n680  female   NaN      0      0        330935   8.1375   NaN        Q  NaN   \n535  female   7.0      0      2  F.C.C. 13529  26.2500   NaN        S  NaN   \n623    male  21.0      0      0        350029   7.8542   NaN        S  NaN   \n148    male  36.5      0      2        230080  26.0000    F2        S    F   \n3    female  35.0      1      0        113803  53.1000  C123        S    C   \n34     male  28.0      1      0      PC 17604  82.1708   NaN        C  NaN   \n241  female   NaN      1      0        367230  15.5000   NaN        Q  NaN   \n\n        impAge  \n862  48.000000  \n223  30.166232  \n84   17.000000  \n680  30.166232  \n535   7.000000  \n623  21.000000  \n148  36.500000  \n3    35.000000  \n34   28.000000  \n241  30.166232  ",
      "text/html": "<div>\n<style scoped>\n    .dataframe tbody tr th:only-of-type {\n        vertical-align: middle;\n    }\n\n    .dataframe tbody tr th {\n        vertical-align: top;\n    }\n\n    .dataframe thead th {\n        text-align: right;\n    }\n</style>\n<table border=\"1\" class=\"dataframe\">\n  <thead>\n    <tr style=\"text-align: right;\">\n      <th></th>\n      <th>PassengerId</th>\n      <th>Pclass</th>\n      <th>Name</th>\n      <th>Sex</th>\n      <th>Age</th>\n      <th>SibSp</th>\n      <th>Parch</th>\n      <th>Ticket</th>\n      <th>Fare</th>\n      <th>Cabin</th>\n      <th>Embarked</th>\n      <th>Deck</th>\n      <th>impAge</th>\n    </tr>\n  </thead>\n  <tbody>\n    <tr>\n      <th>862</th>\n      <td>863</td>\n      <td>1</td>\n      <td>Swift, Mrs. Frederick Joel (Margaret Welles Ba...</td>\n      <td>female</td>\n      <td>48.0</td>\n      <td>0</td>\n      <td>0</td>\n      <td>17466</td>\n      <td>25.9292</td>\n      <td>D17</td>\n      <td>S</td>\n      <td>D</td>\n      <td>48.000000</td>\n    </tr>\n    <tr>\n      <th>223</th>\n      <td>224</td>\n      <td>3</td>\n      <td>Nenkoff, Mr. Christo</td>\n      <td>male</td>\n      <td>NaN</td>\n      <td>0</td>\n      <td>0</td>\n      <td>349234</td>\n      <td>7.8958</td>\n      <td>NaN</td>\n      <td>S</td>\n      <td>NaN</td>\n      <td>30.166232</td>\n    </tr>\n    <tr>\n      <th>84</th>\n      <td>85</td>\n      <td>2</td>\n      <td>Ilett, Miss. Bertha</td>\n      <td>female</td>\n      <td>17.0</td>\n      <td>0</td>\n      <td>0</td>\n      <td>SO/C 14885</td>\n      <td>10.5000</td>\n      <td>NaN</td>\n      <td>S</td>\n      <td>NaN</td>\n      <td>17.000000</td>\n    </tr>\n    <tr>\n      <th>680</th>\n      <td>681</td>\n      <td>3</td>\n      <td>Peters, Miss. Katie</td>\n      <td>female</td>\n      <td>NaN</td>\n      <td>0</td>\n      <td>0</td>\n      <td>330935</td>\n      <td>8.1375</td>\n      <td>NaN</td>\n      <td>Q</td>\n      <td>NaN</td>\n      <td>30.166232</td>\n    </tr>\n    <tr>\n      <th>535</th>\n      <td>536</td>\n      <td>2</td>\n      <td>Hart, Miss. Eva Miriam</td>\n      <td>female</td>\n      <td>7.0</td>\n      <td>0</td>\n      <td>2</td>\n      <td>F.C.C. 13529</td>\n      <td>26.2500</td>\n      <td>NaN</td>\n      <td>S</td>\n      <td>NaN</td>\n      <td>7.000000</td>\n    </tr>\n    <tr>\n      <th>623</th>\n      <td>624</td>\n      <td>3</td>\n      <td>Hansen, Mr. Henry Damsgaard</td>\n      <td>male</td>\n      <td>21.0</td>\n      <td>0</td>\n      <td>0</td>\n      <td>350029</td>\n      <td>7.8542</td>\n      <td>NaN</td>\n      <td>S</td>\n      <td>NaN</td>\n      <td>21.000000</td>\n    </tr>\n    <tr>\n      <th>148</th>\n      <td>149</td>\n      <td>2</td>\n      <td>Navratil, Mr. Michel (\"Louis M Hoffman\")</td>\n      <td>male</td>\n      <td>36.5</td>\n      <td>0</td>\n      <td>2</td>\n      <td>230080</td>\n      <td>26.0000</td>\n      <td>F2</td>\n      <td>S</td>\n      <td>F</td>\n      <td>36.500000</td>\n    </tr>\n    <tr>\n      <th>3</th>\n      <td>4</td>\n      <td>1</td>\n      <td>Futrelle, Mrs. Jacques Heath (Lily May Peel)</td>\n      <td>female</td>\n      <td>35.0</td>\n      <td>1</td>\n      <td>0</td>\n      <td>113803</td>\n      <td>53.1000</td>\n      <td>C123</td>\n      <td>S</td>\n      <td>C</td>\n      <td>35.000000</td>\n    </tr>\n    <tr>\n      <th>34</th>\n      <td>35</td>\n      <td>1</td>\n      <td>Meyer, Mr. Edgar Joseph</td>\n      <td>male</td>\n      <td>28.0</td>\n      <td>1</td>\n      <td>0</td>\n      <td>PC 17604</td>\n      <td>82.1708</td>\n      <td>NaN</td>\n      <td>C</td>\n      <td>NaN</td>\n      <td>28.000000</td>\n    </tr>\n    <tr>\n      <th>241</th>\n      <td>242</td>\n      <td>3</td>\n      <td>Murphy, Miss. Katherine \"Kate\"</td>\n      <td>female</td>\n      <td>NaN</td>\n      <td>1</td>\n      <td>0</td>\n      <td>367230</td>\n      <td>15.5000</td>\n      <td>NaN</td>\n      <td>Q</td>\n      <td>NaN</td>\n      <td>30.166232</td>\n    </tr>\n  </tbody>\n</table>\n</div>"
     },
     "execution_count": 11,
     "metadata": {},
     "output_type": "execute_result"
    }
   ],
   "source": [
    "# Now work with the test data\n",
    "# Remember not to fit only transform on the test data\n",
    "# Same steps as the training data\n",
    "\n",
    "imp = pd.DataFrame(impage.transform(X_test[feat]), columns=['impAge'], index=X_test.index)\n",
    "X_test = pd.concat([X_test, imp], axis=1)\n",
    "X_test.head(10)\n"
   ],
   "metadata": {
    "collapsed": false,
    "ExecuteTime": {
     "end_time": "2023-12-05T01:27:25.966985Z",
     "start_time": "2023-12-05T01:27:25.955376Z"
    }
   }
  },
  {
   "cell_type": "code",
   "execution_count": 12,
   "outputs": [
    {
     "data": {
      "text/plain": "     PassengerId  Pclass                                               Name  \\\n862          863       1  Swift, Mrs. Frederick Joel (Margaret Welles Ba...   \n223          224       3                               Nenkoff, Mr. Christo   \n84            85       2                                Ilett, Miss. Bertha   \n680          681       3                                Peters, Miss. Katie   \n535          536       2                             Hart, Miss. Eva Miriam   \n\n        Sex   Age  SibSp  Parch        Ticket     Fare Cabin Embarked Deck  \\\n862  female  48.0      0      0         17466  25.9292   D17        S    D   \n223    male   NaN      0      0        349234   7.8958   NaN        S  NaN   \n84   female  17.0      0      0    SO/C 14885  10.5000   NaN        S  NaN   \n680  female   NaN      0      0        330935   8.1375   NaN        Q  NaN   \n535  female   7.0      0      2  F.C.C. 13529  26.2500   NaN        S  NaN   \n\n        impAge impPclass  impSex impDeck  \n862  48.000000         1  female       D  \n223  30.166232         3    male       X  \n84   17.000000         2  female       X  \n680  30.166232         3  female       X  \n535   7.000000         2  female       X  ",
      "text/html": "<div>\n<style scoped>\n    .dataframe tbody tr th:only-of-type {\n        vertical-align: middle;\n    }\n\n    .dataframe tbody tr th {\n        vertical-align: top;\n    }\n\n    .dataframe thead th {\n        text-align: right;\n    }\n</style>\n<table border=\"1\" class=\"dataframe\">\n  <thead>\n    <tr style=\"text-align: right;\">\n      <th></th>\n      <th>PassengerId</th>\n      <th>Pclass</th>\n      <th>Name</th>\n      <th>Sex</th>\n      <th>Age</th>\n      <th>SibSp</th>\n      <th>Parch</th>\n      <th>Ticket</th>\n      <th>Fare</th>\n      <th>Cabin</th>\n      <th>Embarked</th>\n      <th>Deck</th>\n      <th>impAge</th>\n      <th>impPclass</th>\n      <th>impSex</th>\n      <th>impDeck</th>\n    </tr>\n  </thead>\n  <tbody>\n    <tr>\n      <th>862</th>\n      <td>863</td>\n      <td>1</td>\n      <td>Swift, Mrs. Frederick Joel (Margaret Welles Ba...</td>\n      <td>female</td>\n      <td>48.0</td>\n      <td>0</td>\n      <td>0</td>\n      <td>17466</td>\n      <td>25.9292</td>\n      <td>D17</td>\n      <td>S</td>\n      <td>D</td>\n      <td>48.000000</td>\n      <td>1</td>\n      <td>female</td>\n      <td>D</td>\n    </tr>\n    <tr>\n      <th>223</th>\n      <td>224</td>\n      <td>3</td>\n      <td>Nenkoff, Mr. Christo</td>\n      <td>male</td>\n      <td>NaN</td>\n      <td>0</td>\n      <td>0</td>\n      <td>349234</td>\n      <td>7.8958</td>\n      <td>NaN</td>\n      <td>S</td>\n      <td>NaN</td>\n      <td>30.166232</td>\n      <td>3</td>\n      <td>male</td>\n      <td>X</td>\n    </tr>\n    <tr>\n      <th>84</th>\n      <td>85</td>\n      <td>2</td>\n      <td>Ilett, Miss. Bertha</td>\n      <td>female</td>\n      <td>17.0</td>\n      <td>0</td>\n      <td>0</td>\n      <td>SO/C 14885</td>\n      <td>10.5000</td>\n      <td>NaN</td>\n      <td>S</td>\n      <td>NaN</td>\n      <td>17.000000</td>\n      <td>2</td>\n      <td>female</td>\n      <td>X</td>\n    </tr>\n    <tr>\n      <th>680</th>\n      <td>681</td>\n      <td>3</td>\n      <td>Peters, Miss. Katie</td>\n      <td>female</td>\n      <td>NaN</td>\n      <td>0</td>\n      <td>0</td>\n      <td>330935</td>\n      <td>8.1375</td>\n      <td>NaN</td>\n      <td>Q</td>\n      <td>NaN</td>\n      <td>30.166232</td>\n      <td>3</td>\n      <td>female</td>\n      <td>X</td>\n    </tr>\n    <tr>\n      <th>535</th>\n      <td>536</td>\n      <td>2</td>\n      <td>Hart, Miss. Eva Miriam</td>\n      <td>female</td>\n      <td>7.0</td>\n      <td>0</td>\n      <td>2</td>\n      <td>F.C.C. 13529</td>\n      <td>26.2500</td>\n      <td>NaN</td>\n      <td>S</td>\n      <td>NaN</td>\n      <td>7.000000</td>\n      <td>2</td>\n      <td>female</td>\n      <td>X</td>\n    </tr>\n  </tbody>\n</table>\n</div>"
     },
     "execution_count": 12,
     "metadata": {},
     "output_type": "execute_result"
    }
   ],
   "source": [
    "# Same steps as training data continue\n",
    "\n",
    "imps = pd.DataFrame(impcat.transform(X_test[feats]), columns=['impPclass', 'impSex', 'impDeck'],index=X_test.index)\n",
    "X_test = pd.concat([X_test, imps], axis=1)\n",
    "X_test.head()\n"
   ],
   "metadata": {
    "collapsed": false,
    "ExecuteTime": {
     "end_time": "2023-12-05T01:34:02.969676Z",
     "start_time": "2023-12-05T01:34:02.962347Z"
    }
   }
  },
  {
   "cell_type": "code",
   "execution_count": 13,
   "outputs": [
    {
     "data": {
      "text/plain": "     PassengerId  Pclass                                               Name  \\\n862          863       1  Swift, Mrs. Frederick Joel (Margaret Welles Ba...   \n223          224       3                               Nenkoff, Mr. Christo   \n84            85       2                                Ilett, Miss. Bertha   \n680          681       3                                Peters, Miss. Katie   \n535          536       2                             Hart, Miss. Eva Miriam   \n\n        Sex   Age  SibSp  Parch        Ticket     Fare Cabin  ... impSex_male  \\\n862  female  48.0      0      0         17466  25.9292   D17  ...           0   \n223    male   NaN      0      0        349234   7.8958   NaN  ...           1   \n84   female  17.0      0      0    SO/C 14885  10.5000   NaN  ...           0   \n680  female   NaN      0      0        330935   8.1375   NaN  ...           0   \n535  female   7.0      0      2  F.C.C. 13529  26.2500   NaN  ...           0   \n\n    impDeck_A  impDeck_B impDeck_C impDeck_D impDeck_E  impDeck_F  impDeck_G  \\\n862         0          0         0         1         0          0          0   \n223         0          0         0         0         0          0          0   \n84          0          0         0         0         0          0          0   \n680         0          0         0         0         0          0          0   \n535         0          0         0         0         0          0          0   \n\n     impDeck_T  impDeck_X  \n862          0          0  \n223          0          1  \n84           0          1  \n680          0          1  \n535          0          1  \n\n[5 rows x 30 columns]",
      "text/html": "<div>\n<style scoped>\n    .dataframe tbody tr th:only-of-type {\n        vertical-align: middle;\n    }\n\n    .dataframe tbody tr th {\n        vertical-align: top;\n    }\n\n    .dataframe thead th {\n        text-align: right;\n    }\n</style>\n<table border=\"1\" class=\"dataframe\">\n  <thead>\n    <tr style=\"text-align: right;\">\n      <th></th>\n      <th>PassengerId</th>\n      <th>Pclass</th>\n      <th>Name</th>\n      <th>Sex</th>\n      <th>Age</th>\n      <th>SibSp</th>\n      <th>Parch</th>\n      <th>Ticket</th>\n      <th>Fare</th>\n      <th>Cabin</th>\n      <th>...</th>\n      <th>impSex_male</th>\n      <th>impDeck_A</th>\n      <th>impDeck_B</th>\n      <th>impDeck_C</th>\n      <th>impDeck_D</th>\n      <th>impDeck_E</th>\n      <th>impDeck_F</th>\n      <th>impDeck_G</th>\n      <th>impDeck_T</th>\n      <th>impDeck_X</th>\n    </tr>\n  </thead>\n  <tbody>\n    <tr>\n      <th>862</th>\n      <td>863</td>\n      <td>1</td>\n      <td>Swift, Mrs. Frederick Joel (Margaret Welles Ba...</td>\n      <td>female</td>\n      <td>48.0</td>\n      <td>0</td>\n      <td>0</td>\n      <td>17466</td>\n      <td>25.9292</td>\n      <td>D17</td>\n      <td>...</td>\n      <td>0</td>\n      <td>0</td>\n      <td>0</td>\n      <td>0</td>\n      <td>1</td>\n      <td>0</td>\n      <td>0</td>\n      <td>0</td>\n      <td>0</td>\n      <td>0</td>\n    </tr>\n    <tr>\n      <th>223</th>\n      <td>224</td>\n      <td>3</td>\n      <td>Nenkoff, Mr. Christo</td>\n      <td>male</td>\n      <td>NaN</td>\n      <td>0</td>\n      <td>0</td>\n      <td>349234</td>\n      <td>7.8958</td>\n      <td>NaN</td>\n      <td>...</td>\n      <td>1</td>\n      <td>0</td>\n      <td>0</td>\n      <td>0</td>\n      <td>0</td>\n      <td>0</td>\n      <td>0</td>\n      <td>0</td>\n      <td>0</td>\n      <td>1</td>\n    </tr>\n    <tr>\n      <th>84</th>\n      <td>85</td>\n      <td>2</td>\n      <td>Ilett, Miss. Bertha</td>\n      <td>female</td>\n      <td>17.0</td>\n      <td>0</td>\n      <td>0</td>\n      <td>SO/C 14885</td>\n      <td>10.5000</td>\n      <td>NaN</td>\n      <td>...</td>\n      <td>0</td>\n      <td>0</td>\n      <td>0</td>\n      <td>0</td>\n      <td>0</td>\n      <td>0</td>\n      <td>0</td>\n      <td>0</td>\n      <td>0</td>\n      <td>1</td>\n    </tr>\n    <tr>\n      <th>680</th>\n      <td>681</td>\n      <td>3</td>\n      <td>Peters, Miss. Katie</td>\n      <td>female</td>\n      <td>NaN</td>\n      <td>0</td>\n      <td>0</td>\n      <td>330935</td>\n      <td>8.1375</td>\n      <td>NaN</td>\n      <td>...</td>\n      <td>0</td>\n      <td>0</td>\n      <td>0</td>\n      <td>0</td>\n      <td>0</td>\n      <td>0</td>\n      <td>0</td>\n      <td>0</td>\n      <td>0</td>\n      <td>1</td>\n    </tr>\n    <tr>\n      <th>535</th>\n      <td>536</td>\n      <td>2</td>\n      <td>Hart, Miss. Eva Miriam</td>\n      <td>female</td>\n      <td>7.0</td>\n      <td>0</td>\n      <td>2</td>\n      <td>F.C.C. 13529</td>\n      <td>26.2500</td>\n      <td>NaN</td>\n      <td>...</td>\n      <td>0</td>\n      <td>0</td>\n      <td>0</td>\n      <td>0</td>\n      <td>0</td>\n      <td>0</td>\n      <td>0</td>\n      <td>0</td>\n      <td>0</td>\n      <td>1</td>\n    </tr>\n  </tbody>\n</table>\n<p>5 rows × 30 columns</p>\n</div>"
     },
     "execution_count": 13,
     "metadata": {},
     "output_type": "execute_result"
    }
   ],
   "source": [
    "# Encode OneHotEncoder\n",
    "\n",
    "imps_ohe = pd.DataFrame(ohe.transform(X_test[featsimp]), columns=ohe.get_feature_names_out(), index=X_test.index)\n",
    "X_test = pd.concat([X_test, imps_ohe], axis=1)\n",
    "X_test.head()\n"
   ],
   "metadata": {
    "collapsed": false,
    "ExecuteTime": {
     "end_time": "2023-12-05T01:43:04.609522Z",
     "start_time": "2023-12-05T01:43:04.585430Z"
    }
   }
  },
  {
   "cell_type": "code",
   "execution_count": 14,
   "outputs": [
    {
     "data": {
      "text/plain": "        impAge  impPclass_1  impPclass_2  impPclass_3  impSex_female  \\\n862  48.000000            1            0            0              1   \n223  30.166232            0            0            1              0   \n84   17.000000            0            1            0              1   \n680  30.166232            0            0            1              1   \n535   7.000000            0            1            0              1   \n\n     impSex_male  impDeck_A  impDeck_B  impDeck_C  impDeck_D  impDeck_E  \\\n862            0          0          0          0          1          0   \n223            1          0          0          0          0          0   \n84             0          0          0          0          0          0   \n680            0          0          0          0          0          0   \n535            0          0          0          0          0          0   \n\n     impDeck_F  impDeck_G  impDeck_T  impDeck_X  \n862          0          0          0          0  \n223          0          0          0          1  \n84           0          0          0          1  \n680          0          0          0          1  \n535          0          0          0          1  ",
      "text/html": "<div>\n<style scoped>\n    .dataframe tbody tr th:only-of-type {\n        vertical-align: middle;\n    }\n\n    .dataframe tbody tr th {\n        vertical-align: top;\n    }\n\n    .dataframe thead th {\n        text-align: right;\n    }\n</style>\n<table border=\"1\" class=\"dataframe\">\n  <thead>\n    <tr style=\"text-align: right;\">\n      <th></th>\n      <th>impAge</th>\n      <th>impPclass_1</th>\n      <th>impPclass_2</th>\n      <th>impPclass_3</th>\n      <th>impSex_female</th>\n      <th>impSex_male</th>\n      <th>impDeck_A</th>\n      <th>impDeck_B</th>\n      <th>impDeck_C</th>\n      <th>impDeck_D</th>\n      <th>impDeck_E</th>\n      <th>impDeck_F</th>\n      <th>impDeck_G</th>\n      <th>impDeck_T</th>\n      <th>impDeck_X</th>\n    </tr>\n  </thead>\n  <tbody>\n    <tr>\n      <th>862</th>\n      <td>48.000000</td>\n      <td>1</td>\n      <td>0</td>\n      <td>0</td>\n      <td>1</td>\n      <td>0</td>\n      <td>0</td>\n      <td>0</td>\n      <td>0</td>\n      <td>1</td>\n      <td>0</td>\n      <td>0</td>\n      <td>0</td>\n      <td>0</td>\n      <td>0</td>\n    </tr>\n    <tr>\n      <th>223</th>\n      <td>30.166232</td>\n      <td>0</td>\n      <td>0</td>\n      <td>1</td>\n      <td>0</td>\n      <td>1</td>\n      <td>0</td>\n      <td>0</td>\n      <td>0</td>\n      <td>0</td>\n      <td>0</td>\n      <td>0</td>\n      <td>0</td>\n      <td>0</td>\n      <td>1</td>\n    </tr>\n    <tr>\n      <th>84</th>\n      <td>17.000000</td>\n      <td>0</td>\n      <td>1</td>\n      <td>0</td>\n      <td>1</td>\n      <td>0</td>\n      <td>0</td>\n      <td>0</td>\n      <td>0</td>\n      <td>0</td>\n      <td>0</td>\n      <td>0</td>\n      <td>0</td>\n      <td>0</td>\n      <td>1</td>\n    </tr>\n    <tr>\n      <th>680</th>\n      <td>30.166232</td>\n      <td>0</td>\n      <td>0</td>\n      <td>1</td>\n      <td>1</td>\n      <td>0</td>\n      <td>0</td>\n      <td>0</td>\n      <td>0</td>\n      <td>0</td>\n      <td>0</td>\n      <td>0</td>\n      <td>0</td>\n      <td>0</td>\n      <td>1</td>\n    </tr>\n    <tr>\n      <th>535</th>\n      <td>7.000000</td>\n      <td>0</td>\n      <td>1</td>\n      <td>0</td>\n      <td>1</td>\n      <td>0</td>\n      <td>0</td>\n      <td>0</td>\n      <td>0</td>\n      <td>0</td>\n      <td>0</td>\n      <td>0</td>\n      <td>0</td>\n      <td>0</td>\n      <td>1</td>\n    </tr>\n  </tbody>\n</table>\n</div>"
     },
     "execution_count": 14,
     "metadata": {},
     "output_type": "execute_result"
    }
   ],
   "source": [
    "# Keep numerical and ohe only\n",
    "X_test.drop(['PassengerId', 'Pclass', 'Name', 'Sex', 'Age', 'SibSp', 'Parch', 'Ticket', 'Fare', 'Cabin', 'Embarked', 'Deck', 'impPclass', 'impSex', 'impDeck'], axis=1, inplace=True)\n",
    "X_test.head()\n"
   ],
   "metadata": {
    "collapsed": false,
    "ExecuteTime": {
     "end_time": "2023-12-05T01:46:15.512472Z",
     "start_time": "2023-12-05T01:46:15.495349Z"
    }
   }
  },
  {
   "cell_type": "code",
   "execution_count": 16,
   "outputs": [
    {
     "name": "stdout",
     "output_type": "stream",
     "text": [
      "0.7821229050279329\n"
     ]
    }
   ],
   "source": [
    "# Predict\n",
    "y_pred = lr.predict(X_test)\n",
    "\n",
    "print(metrics.accuracy_score(y_test, y_pred))\n"
   ],
   "metadata": {
    "collapsed": false,
    "ExecuteTime": {
     "end_time": "2023-12-05T01:53:59.605361Z",
     "start_time": "2023-12-05T01:53:59.562430Z"
    }
   }
  },
  {
   "cell_type": "code",
   "execution_count": null,
   "outputs": [],
   "source": [],
   "metadata": {
    "collapsed": false
   }
  }
 ],
 "metadata": {
  "kernelspec": {
   "display_name": "Python 3",
   "language": "python",
   "name": "python3"
  },
  "language_info": {
   "codemirror_mode": {
    "name": "ipython",
    "version": 2
   },
   "file_extension": ".py",
   "mimetype": "text/x-python",
   "name": "python",
   "nbconvert_exporter": "python",
   "pygments_lexer": "ipython2",
   "version": "2.7.6"
  }
 },
 "nbformat": 4,
 "nbformat_minor": 0
}
